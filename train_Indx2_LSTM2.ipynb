{
 "cells": [
  {
   "attachments": {},
   "cell_type": "markdown",
   "metadata": {},
   "source": [
    "## MLP-based Values prediction "
   ]
  },
  {
   "attachments": {},
   "cell_type": "markdown",
   "metadata": {},
   "source": [
    "### 1. Install required dependency libraries"
   ]
  },
  {
   "cell_type": "code",
   "execution_count": 1,
   "metadata": {},
   "outputs": [
    {
     "data": {
      "text/plain": [
       "'\\nInstall required dependency libraries\\n-pip install pandas\\n-pip install scikit-learn\\n-pip install tensorflow\\n-import matplotlib.pyplot as plt\\n\\n'"
      ]
     },
     "execution_count": 1,
     "metadata": {},
     "output_type": "execute_result"
    }
   ],
   "source": [
    "\"\"\"\n",
    "Install required dependency libraries\n",
    "-pip install pandas\n",
    "-pip install scikit-learn\n",
    "-pip install tensorflow\n",
    "-import matplotlib.pyplot as plt\n",
    "\n",
    "\"\"\""
   ]
  },
  {
   "attachments": {},
   "cell_type": "markdown",
   "metadata": {},
   "source": [
    "### 2. Import installed required dependency libraries"
   ]
  },
  {
   "cell_type": "code",
   "execution_count": 96,
   "metadata": {},
   "outputs": [],
   "source": [
    "# Import required libraries for LSTM model\n",
    "import numpy as np\n",
    "import pandas as pd\n",
    "import tkinter as tk\n",
    "from tkinter import font\n",
    "from PIL import ImageTk, Image\n",
    "import matplotlib.pyplot as plt\n",
    "from keras.models import Sequential\n",
    "from keras.layers import Dense, LSTM\n",
    "from sklearn.preprocessing import MinMaxScaler\n",
    "from tensorflow.keras.models import load_model\n",
    "from sklearn.metrics import mean_absolute_error, r2_score\n",
    "from tensorflow.keras.layers import Dense, LSTM, Dropout\n",
    "from tensorflow.keras.callbacks import EarlyStopping\n",
    "from sklearn.metrics import mean_squared_error, mean_absolute_error, r2_score"
   ]
  },
  {
   "attachments": {},
   "cell_type": "markdown",
   "metadata": {},
   "source": [
    "### 3. Prepare the datset"
   ]
  },
  {
   "cell_type": "code",
   "execution_count": 35,
   "metadata": {},
   "outputs": [],
   "source": [
    "# Load the CSV file into a pandas dataframe\n",
    "df = pd.read_csv(\"complete_data.csv\")"
   ]
  },
  {
   "cell_type": "code",
   "execution_count": 36,
   "metadata": {},
   "outputs": [
    {
     "name": "stdout",
     "output_type": "stream",
     "text": [
      "<class 'pandas.core.frame.DataFrame'>\n",
      "RangeIndex: 216683 entries, 0 to 216682\n",
      "Data columns (total 94 columns):\n",
      " #   Column                     Non-Null Count   Dtype  \n",
      "---  ------                     --------------   -----  \n",
      " 0   index                      216683 non-null  int64  \n",
      " 1   open                       216683 non-null  float64\n",
      " 2   high                       216683 non-null  float64\n",
      " 3   close                      216683 non-null  float64\n",
      " 4   low                        216683 non-null  float64\n",
      " 5   timestamp                  216683 non-null  object \n",
      " 6   transactions               216683 non-null  int64  \n",
      " 7   volume                     216683 non-null  float64\n",
      " 8   volume_adi                 216683 non-null  float64\n",
      " 9   volume_obv                 216683 non-null  float64\n",
      " 10  volume_cmf                 216683 non-null  float64\n",
      " 11  volume_fi                  216683 non-null  float64\n",
      " 12  volume_em                  216683 non-null  float64\n",
      " 13  volume_sma_em              216683 non-null  float64\n",
      " 14  volume_vpt                 216683 non-null  float64\n",
      " 15  volume_vwap                216683 non-null  float64\n",
      " 16  volume_mfi                 216683 non-null  float64\n",
      " 17  volume_nvi                 216683 non-null  float64\n",
      " 18  volatility_bbm             216683 non-null  float64\n",
      " 19  volatility_bbh             216683 non-null  float64\n",
      " 20  volatility_bbl             216683 non-null  float64\n",
      " 21  volatility_bbw             216683 non-null  float64\n",
      " 22  volatility_bbp             216683 non-null  float64\n",
      " 23  volatility_bbhi            216683 non-null  int64  \n",
      " 24  volatility_bbli            216683 non-null  int64  \n",
      " 25  volatility_kcc             216683 non-null  float64\n",
      " 26  volatility_kch             216683 non-null  float64\n",
      " 27  volatility_kcl             216683 non-null  float64\n",
      " 28  volatility_kcw             216683 non-null  float64\n",
      " 29  volatility_kcp             216683 non-null  float64\n",
      " 30  volatility_kchi            216683 non-null  int64  \n",
      " 31  volatility_kcli            216683 non-null  int64  \n",
      " 32  volatility_dcl             216683 non-null  float64\n",
      " 33  volatility_dch             216683 non-null  float64\n",
      " 34  volatility_dcm             216683 non-null  float64\n",
      " 35  volatility_dcw             216683 non-null  float64\n",
      " 36  volatility_dcp             216683 non-null  float64\n",
      " 37  volatility_atr             216683 non-null  float64\n",
      " 38  volatility_ui              216683 non-null  float64\n",
      " 39  trend_macd                 216683 non-null  float64\n",
      " 40  trend_macd_signal          216683 non-null  float64\n",
      " 41  trend_macd_diff            216683 non-null  float64\n",
      " 42  trend_sma_fast             216683 non-null  float64\n",
      " 43  trend_sma_slow             216683 non-null  float64\n",
      " 44  trend_ema_fast             216683 non-null  float64\n",
      " 45  trend_ema_slow             216683 non-null  float64\n",
      " 46  trend_vortex_ind_pos       216683 non-null  float64\n",
      " 47  trend_vortex_ind_neg       216683 non-null  float64\n",
      " 48  trend_vortex_ind_diff      216683 non-null  float64\n",
      " 49  trend_trix                 216683 non-null  float64\n",
      " 50  trend_mass_index           216683 non-null  float64\n",
      " 51  trend_dpo                  216683 non-null  float64\n",
      " 52  trend_kst                  216683 non-null  float64\n",
      " 53  trend_kst_sig              216683 non-null  float64\n",
      " 54  trend_kst_diff             216683 non-null  float64\n",
      " 55  trend_ichimoku_conv        216683 non-null  float64\n",
      " 56  trend_ichimoku_base        216683 non-null  float64\n",
      " 57  trend_ichimoku_a           216683 non-null  float64\n",
      " 58  trend_ichimoku_b           216683 non-null  float64\n",
      " 59  trend_stc                  216683 non-null  float64\n",
      " 60  trend_adx                  216683 non-null  float64\n",
      " 61  trend_adx_pos              216683 non-null  float64\n",
      " 62  trend_adx_neg              216683 non-null  float64\n",
      " 63  trend_cci                  216683 non-null  float64\n",
      " 64  trend_visual_ichimoku_a    216683 non-null  float64\n",
      " 65  trend_visual_ichimoku_b    216683 non-null  float64\n",
      " 66  trend_aroon_up             216683 non-null  int64  \n",
      " 67  trend_aroon_down           216683 non-null  int64  \n",
      " 68  trend_aroon_ind            216683 non-null  int64  \n",
      " 69  trend_psar_up              216683 non-null  float64\n",
      " 70  trend_psar_down            216683 non-null  float64\n",
      " 71  trend_psar_up_indicator    216683 non-null  int64  \n",
      " 72  trend_psar_down_indicator  216683 non-null  int64  \n",
      " 73  momentum_rsi               216683 non-null  float64\n",
      " 74  momentum_stoch_rsi         216683 non-null  float64\n",
      " 75  momentum_stoch_rsi_k       216683 non-null  float64\n",
      " 76  momentum_stoch_rsi_d       216683 non-null  float64\n",
      " 77  momentum_tsi               216683 non-null  float64\n",
      " 78  momentum_uo                216683 non-null  float64\n",
      " 79  momentum_stoch             216683 non-null  float64\n",
      " 80  momentum_stoch_signal      216683 non-null  float64\n",
      " 81  momentum_wr                216683 non-null  float64\n",
      " 82  momentum_ao                216683 non-null  float64\n",
      " 83  momentum_roc               216683 non-null  float64\n",
      " 84  momentum_ppo               216683 non-null  float64\n",
      " 85  momentum_ppo_signal        216683 non-null  float64\n",
      " 86  momentum_ppo_hist          216683 non-null  float64\n",
      " 87  momentum_pvo               216683 non-null  float64\n",
      " 88  momentum_pvo_signal        216683 non-null  float64\n",
      " 89  momentum_pvo_hist          216683 non-null  float64\n",
      " 90  momentum_kama              216683 non-null  float64\n",
      " 91  others_dr                  216683 non-null  float64\n",
      " 92  others_dlr                 216683 non-null  float64\n",
      " 93  others_cr                  216683 non-null  float64\n",
      "dtypes: float64(82), int64(11), object(1)\n",
      "memory usage: 155.4+ MB\n"
     ]
    }
   ],
   "source": [
    "#To see the whole inforamtion contenet of the above dataset:\n",
    "df.info()"
   ]
  },
  {
   "cell_type": "code",
   "execution_count": 37,
   "metadata": {},
   "outputs": [
    {
     "data": {
      "text/html": [
       "<div>\n",
       "<style scoped>\n",
       "    .dataframe tbody tr th:only-of-type {\n",
       "        vertical-align: middle;\n",
       "    }\n",
       "\n",
       "    .dataframe tbody tr th {\n",
       "        vertical-align: top;\n",
       "    }\n",
       "\n",
       "    .dataframe thead th {\n",
       "        text-align: right;\n",
       "    }\n",
       "</style>\n",
       "<table border=\"1\" class=\"dataframe\">\n",
       "  <thead>\n",
       "    <tr style=\"text-align: right;\">\n",
       "      <th></th>\n",
       "      <th>index</th>\n",
       "      <th>open</th>\n",
       "      <th>high</th>\n",
       "      <th>close</th>\n",
       "      <th>low</th>\n",
       "      <th>timestamp</th>\n",
       "      <th>transactions</th>\n",
       "      <th>volume</th>\n",
       "      <th>volume_adi</th>\n",
       "      <th>volume_obv</th>\n",
       "      <th>...</th>\n",
       "      <th>momentum_ppo</th>\n",
       "      <th>momentum_ppo_signal</th>\n",
       "      <th>momentum_ppo_hist</th>\n",
       "      <th>momentum_pvo</th>\n",
       "      <th>momentum_pvo_signal</th>\n",
       "      <th>momentum_pvo_hist</th>\n",
       "      <th>momentum_kama</th>\n",
       "      <th>others_dr</th>\n",
       "      <th>others_dlr</th>\n",
       "      <th>others_cr</th>\n",
       "    </tr>\n",
       "  </thead>\n",
       "  <tbody>\n",
       "    <tr>\n",
       "      <th>0</th>\n",
       "      <td>0</td>\n",
       "      <td>0.00600</td>\n",
       "      <td>0.00678</td>\n",
       "      <td>0.00678</td>\n",
       "      <td>0.00600</td>\n",
       "      <td>2017-01-03T11:45:00</td>\n",
       "      <td>2</td>\n",
       "      <td>1000.000000</td>\n",
       "      <td>1000.0000</td>\n",
       "      <td>1000.000000</td>\n",
       "      <td>...</td>\n",
       "      <td>0.000000</td>\n",
       "      <td>0.000000</td>\n",
       "      <td>0.000000</td>\n",
       "      <td>0.000000</td>\n",
       "      <td>0.000000</td>\n",
       "      <td>0.000000</td>\n",
       "      <td>0.006780</td>\n",
       "      <td>-98.572452</td>\n",
       "      <td>0.000000</td>\n",
       "      <td>0.000000</td>\n",
       "    </tr>\n",
       "    <tr>\n",
       "      <th>1</th>\n",
       "      <td>1</td>\n",
       "      <td>0.00720</td>\n",
       "      <td>0.00720</td>\n",
       "      <td>0.00720</td>\n",
       "      <td>0.00720</td>\n",
       "      <td>2017-01-09T12:00:00</td>\n",
       "      <td>1</td>\n",
       "      <td>712.857143</td>\n",
       "      <td>1000.0000</td>\n",
       "      <td>1712.857143</td>\n",
       "      <td>...</td>\n",
       "      <td>0.491906</td>\n",
       "      <td>0.098381</td>\n",
       "      <td>0.393525</td>\n",
       "      <td>-2.340378</td>\n",
       "      <td>-0.468076</td>\n",
       "      <td>-1.872302</td>\n",
       "      <td>0.006970</td>\n",
       "      <td>6.194690</td>\n",
       "      <td>6.010392</td>\n",
       "      <td>6.194690</td>\n",
       "    </tr>\n",
       "    <tr>\n",
       "      <th>2</th>\n",
       "      <td>2</td>\n",
       "      <td>0.00719</td>\n",
       "      <td>0.00739</td>\n",
       "      <td>0.00679</td>\n",
       "      <td>0.00669</td>\n",
       "      <td>2017-01-17T13:00:00</td>\n",
       "      <td>15</td>\n",
       "      <td>212273.631800</td>\n",
       "      <td>-150624.0227</td>\n",
       "      <td>-210560.774600</td>\n",
       "      <td>...</td>\n",
       "      <td>0.391593</td>\n",
       "      <td>0.157024</td>\n",
       "      <td>0.234569</td>\n",
       "      <td>101.237792</td>\n",
       "      <td>19.873098</td>\n",
       "      <td>81.364694</td>\n",
       "      <td>0.006889</td>\n",
       "      <td>-5.694444</td>\n",
       "      <td>-5.863008</td>\n",
       "      <td>0.147493</td>\n",
       "    </tr>\n",
       "    <tr>\n",
       "      <th>3</th>\n",
       "      <td>3</td>\n",
       "      <td>0.00679</td>\n",
       "      <td>0.00679</td>\n",
       "      <td>0.00677</td>\n",
       "      <td>0.00674</td>\n",
       "      <td>2017-01-17T13:15:00</td>\n",
       "      <td>11</td>\n",
       "      <td>209502.720700</td>\n",
       "      <td>-108723.4786</td>\n",
       "      <td>-420063.495300</td>\n",
       "      <td>...</td>\n",
       "      <td>0.285142</td>\n",
       "      <td>0.182647</td>\n",
       "      <td>0.102495</td>\n",
       "      <td>95.842665</td>\n",
       "      <td>35.067011</td>\n",
       "      <td>60.775653</td>\n",
       "      <td>0.006835</td>\n",
       "      <td>-0.294551</td>\n",
       "      <td>-0.294985</td>\n",
       "      <td>-0.147493</td>\n",
       "    </tr>\n",
       "    <tr>\n",
       "      <th>4</th>\n",
       "      <td>4</td>\n",
       "      <td>0.00679</td>\n",
       "      <td>0.00697</td>\n",
       "      <td>0.00682</td>\n",
       "      <td>0.00671</td>\n",
       "      <td>2017-01-17T13:30:00</td>\n",
       "      <td>25</td>\n",
       "      <td>606204.113200</td>\n",
       "      <td>-201985.6498</td>\n",
       "      <td>186140.617900</td>\n",
       "      <td>...</td>\n",
       "      <td>0.256920</td>\n",
       "      <td>0.197502</td>\n",
       "      <td>0.059418</td>\n",
       "      <td>96.510223</td>\n",
       "      <td>47.355654</td>\n",
       "      <td>49.154569</td>\n",
       "      <td>0.006829</td>\n",
       "      <td>0.738552</td>\n",
       "      <td>0.735838</td>\n",
       "      <td>0.589971</td>\n",
       "    </tr>\n",
       "  </tbody>\n",
       "</table>\n",
       "<p>5 rows × 94 columns</p>\n",
       "</div>"
      ],
      "text/plain": [
       "   index     open     high    close      low            timestamp   \n",
       "0      0  0.00600  0.00678  0.00678  0.00600  2017-01-03T11:45:00  \\\n",
       "1      1  0.00720  0.00720  0.00720  0.00720  2017-01-09T12:00:00   \n",
       "2      2  0.00719  0.00739  0.00679  0.00669  2017-01-17T13:00:00   \n",
       "3      3  0.00679  0.00679  0.00677  0.00674  2017-01-17T13:15:00   \n",
       "4      4  0.00679  0.00697  0.00682  0.00671  2017-01-17T13:30:00   \n",
       "\n",
       "   transactions         volume   volume_adi     volume_obv  ...  momentum_ppo   \n",
       "0             2    1000.000000    1000.0000    1000.000000  ...      0.000000  \\\n",
       "1             1     712.857143    1000.0000    1712.857143  ...      0.491906   \n",
       "2            15  212273.631800 -150624.0227 -210560.774600  ...      0.391593   \n",
       "3            11  209502.720700 -108723.4786 -420063.495300  ...      0.285142   \n",
       "4            25  606204.113200 -201985.6498  186140.617900  ...      0.256920   \n",
       "\n",
       "   momentum_ppo_signal  momentum_ppo_hist  momentum_pvo  momentum_pvo_signal   \n",
       "0             0.000000           0.000000      0.000000             0.000000  \\\n",
       "1             0.098381           0.393525     -2.340378            -0.468076   \n",
       "2             0.157024           0.234569    101.237792            19.873098   \n",
       "3             0.182647           0.102495     95.842665            35.067011   \n",
       "4             0.197502           0.059418     96.510223            47.355654   \n",
       "\n",
       "   momentum_pvo_hist  momentum_kama  others_dr  others_dlr  others_cr  \n",
       "0           0.000000       0.006780 -98.572452    0.000000   0.000000  \n",
       "1          -1.872302       0.006970   6.194690    6.010392   6.194690  \n",
       "2          81.364694       0.006889  -5.694444   -5.863008   0.147493  \n",
       "3          60.775653       0.006835  -0.294551   -0.294985  -0.147493  \n",
       "4          49.154569       0.006829   0.738552    0.735838   0.589971  \n",
       "\n",
       "[5 rows x 94 columns]"
      ]
     },
     "execution_count": 37,
     "metadata": {},
     "output_type": "execute_result"
    }
   ],
   "source": [
    "# To see the first five data content of the above dataset:\n",
    "df.head()"
   ]
  },
  {
   "cell_type": "code",
   "execution_count": 38,
   "metadata": {},
   "outputs": [],
   "source": [
    "# Drop the rows containing NaN values\n",
    "df = df.dropna()"
   ]
  },
  {
   "cell_type": "code",
   "execution_count": 39,
   "metadata": {},
   "outputs": [],
   "source": [
    "# Select the features for training\n",
    "features = [\"open\", \"high\", \"low\", \"close\"]"
   ]
  },
  {
   "cell_type": "code",
   "execution_count": 40,
   "metadata": {},
   "outputs": [],
   "source": [
    "# Normalize the data\n",
    "scaler = MinMaxScaler()\n",
    "scaled_data = scaler.fit_transform(df[features])"
   ]
  },
  {
   "cell_type": "code",
   "execution_count": 41,
   "metadata": {},
   "outputs": [],
   "source": [
    "# Define the input and output sequences\n",
    "sequence_length = 10  # Length of the input sequence\n",
    "X = []\n",
    "y = []\n",
    "for i in range(sequence_length, len(df)):\n",
    "    X.append(scaled_data[i-sequence_length:i])\n",
    "    y.append(scaled_data[i])\n",
    "\n",
    "X = np.array(X)\n",
    "y = np.array(y)"
   ]
  },
  {
   "cell_type": "code",
   "execution_count": 42,
   "metadata": {},
   "outputs": [],
   "source": [
    "# Split the data into training and testing sets\n",
    "train_size = int(0.8 * len(X))\n",
    "X_train, X_test = X[:train_size], X[train_size:]\n",
    "y_train, y_test = y[:train_size], y[train_size:]"
   ]
  },
  {
   "attachments": {},
   "cell_type": "markdown",
   "metadata": {},
   "source": [
    "### 4. Define and build the LSTM-model"
   ]
  },
  {
   "cell_type": "code",
   "execution_count": 43,
   "metadata": {},
   "outputs": [],
   "source": [
    "# Build the LSTM model\n",
    "lstm_model = Sequential()\n",
    "lstm_model.add(LSTM(50, activation='relu', input_shape=(sequence_length, len(features))))\n",
    "lstm_model.add(Dense(len(features)))"
   ]
  },
  {
   "cell_type": "code",
   "execution_count": 44,
   "metadata": {},
   "outputs": [
    {
     "name": "stdout",
     "output_type": "stream",
     "text": [
      "Model: \"sequential_4\"\n",
      "_________________________________________________________________\n",
      " Layer (type)                Output Shape              Param #   \n",
      "=================================================================\n",
      " lstm_5 (LSTM)               (None, 50)                11000     \n",
      "                                                                 \n",
      " dense_4 (Dense)             (None, 4)                 204       \n",
      "                                                                 \n",
      "=================================================================\n",
      "Total params: 11,204\n",
      "Trainable params: 11,204\n",
      "Non-trainable params: 0\n",
      "_________________________________________________________________\n"
     ]
    }
   ],
   "source": [
    "# Print-out the model summary\n",
    "lstm_model.summary()"
   ]
  },
  {
   "cell_type": "code",
   "execution_count": 45,
   "metadata": {},
   "outputs": [],
   "source": [
    "# compile the LSTM model\n",
    "lstm_model.compile(optimizer='adam', loss='mean_squared_error', metrics=['accuracy'])"
   ]
  },
  {
   "cell_type": "code",
   "execution_count": 46,
   "metadata": {},
   "outputs": [],
   "source": [
    "# Define early stopping criteria\n",
    "early_stopping = EarlyStopping(monitor='val_loss', patience=5)"
   ]
  },
  {
   "attachments": {},
   "cell_type": "markdown",
   "metadata": {},
   "source": [
    "### 5. Train the LSTM-model"
   ]
  },
  {
   "cell_type": "code",
   "execution_count": 47,
   "metadata": {},
   "outputs": [
    {
     "name": "stdout",
     "output_type": "stream",
     "text": [
      "Epoch 1/10\n",
      "5417/5417 [==============================] - 59s 10ms/step - loss: 1.6452e-04 - accuracy: 0.8488 - val_loss: 2.3677e-06 - val_accuracy: 0.9967\n",
      "Epoch 2/10\n",
      "5417/5417 [==============================] - 60s 11ms/step - loss: 2.5820e-05 - accuracy: 0.8742 - val_loss: 1.4400e-06 - val_accuracy: 0.9968\n",
      "Epoch 3/10\n",
      "5417/5417 [==============================] - 41s 8ms/step - loss: 2.3795e-05 - accuracy: 0.8779 - val_loss: 7.8470e-07 - val_accuracy: 0.9968\n",
      "Epoch 4/10\n",
      "5417/5417 [==============================] - 46s 9ms/step - loss: 2.2919e-05 - accuracy: 0.8869 - val_loss: 6.9649e-07 - val_accuracy: 0.9968\n",
      "Epoch 5/10\n",
      "5417/5417 [==============================] - 47s 9ms/step - loss: 2.2208e-05 - accuracy: 0.8896 - val_loss: 1.5811e-06 - val_accuracy: 0.9968\n",
      "Epoch 6/10\n",
      "5417/5417 [==============================] - 45s 8ms/step - loss: 2.2063e-05 - accuracy: 0.9018 - val_loss: 1.2407e-06 - val_accuracy: 0.9967\n",
      "Epoch 7/10\n",
      "5417/5417 [==============================] - 46s 8ms/step - loss: 2.1638e-05 - accuracy: 0.9010 - val_loss: 4.6886e-06 - val_accuracy: 0.9968\n",
      "Epoch 8/10\n",
      "5417/5417 [==============================] - 56s 10ms/step - loss: 2.1886e-05 - accuracy: 0.9066 - val_loss: 5.3440e-07 - val_accuracy: 0.9968\n",
      "Epoch 9/10\n",
      "5417/5417 [==============================] - 53s 10ms/step - loss: 2.1643e-05 - accuracy: 0.9075 - val_loss: 7.0490e-07 - val_accuracy: 0.9967\n",
      "Epoch 10/10\n",
      "5417/5417 [==============================] - 57s 11ms/step - loss: 2.1335e-05 - accuracy: 0.9095 - val_loss: 1.6478e-06 - val_accuracy: 0.9963\n"
     ]
    }
   ],
   "source": [
    "# train the LSTM model\n",
    "#lstm_model.fit(X_train, y_train, epochs=10, batch_size=32, verbose=1)\n",
    "history = lstm_model.fit(X_train, y_train, epochs=10, batch_size=32, validation_data=(X_test, y_test), callbacks=[early_stopping])"
   ]
  },
  {
   "attachments": {},
   "cell_type": "markdown",
   "metadata": {},
   "source": [
    "### 6. Plot the training"
   ]
  },
  {
   "cell_type": "code",
   "execution_count": 48,
   "metadata": {},
   "outputs": [
    {
     "data": {
      "image/png": "[encoded data removed]",
      "text/plain": [
       "<Figure size 640x480 with 1 Axes>"
      ]
     },
     "metadata": {},
     "output_type": "display_data"
    }
   ],
   "source": [
    "# plot the training and validation loss for each epoch\n",
    "plt.plot(history.history['loss'])\n",
    "plt.plot(history.history['val_loss'])\n",
    "plt.title('Model Loss')\n",
    "plt.ylabel('Loss')\n",
    "plt.xlabel('Epoch')\n",
    "plt.legend(['Train', 'Validation'], loc='upper right')\n",
    "plt.show()"
   ]
  },
  {
   "cell_type": "code",
   "execution_count": 49,
   "metadata": {},
   "outputs": [
    {
     "data": {
      "image/png": "[encoded data removed]",
      "text/plain": [
       "<Figure size 640x480 with 1 Axes>"
      ]
     },
     "metadata": {},
     "output_type": "display_data"
    }
   ],
   "source": [
    "# plot the training and validation accuracy for each epoch\n",
    "plt.plot(history.history['accuracy'])\n",
    "plt.plot(history.history['val_accuracy'])\n",
    "plt.title('Model Accuracy')\n",
    "plt.ylabel('Accuracy')\n",
    "plt.xlabel('Epoch')\n",
    "plt.legend(['Train', 'Validation'], loc='upper left')\n",
    "plt.show()"
   ]
  },
  {
   "attachments": {},
   "cell_type": "markdown",
   "metadata": {},
   "source": [
    "### 7. Evaluate the trained model"
   ]
  },
  {
   "cell_type": "code",
   "execution_count": 50,
   "metadata": {},
   "outputs": [
    {
     "name": "stdout",
     "output_type": "stream",
     "text": [
      "1355/1355 [==============================] - 6s 4ms/step\n"
     ]
    }
   ],
   "source": [
    "# Make predictions\n",
    "predictions = lstm_model.predict(X_test)"
   ]
  },
  {
   "cell_type": "code",
   "execution_count": 51,
   "metadata": {},
   "outputs": [],
   "source": [
    "# Inverse transform the predictions and actual values\n",
    "predictions = scaler.inverse_transform(predictions)\n",
    "actual_values = scaler.inverse_transform(y_test)"
   ]
  },
  {
   "cell_type": "code",
   "execution_count": 52,
   "metadata": {},
   "outputs": [],
   "source": [
    "# Calculate evaluation metrics\n",
    "mse = mean_squared_error(actual_values, predictions)\n",
    "mae = mean_absolute_error(actual_values, predictions)\n",
    "r2 = r2_score(actual_values, predictions)"
   ]
  },
  {
   "cell_type": "code",
   "execution_count": 53,
   "metadata": {},
   "outputs": [
    {
     "name": "stdout",
     "output_type": "stream",
     "text": [
      "Mean Squared Error (MSE): 1.9441976347805784e-05\n",
      "Mean Absolute Error (MAE): 0.003653644563495405\n",
      "R-squared: 0.9991596354406742\n"
     ]
    }
   ],
   "source": [
    "print(f\"Mean Squared Error (MSE): {mse}\")\n",
    "print(f\"Mean Absolute Error (MAE): {mae}\")\n",
    "print(f\"R-squared: {r2}\")"
   ]
  },
  {
   "attachments": {},
   "cell_type": "markdown",
   "metadata": {},
   "source": [
    "### 8. Save the model"
   ]
  },
  {
   "cell_type": "code",
   "execution_count": 59,
   "metadata": {},
   "outputs": [],
   "source": [
    "# Save the model\n",
    "lstm_model.save(\"lstm2_id10_model.h5\")"
   ]
  },
  {
   "attachments": {},
   "cell_type": "markdown",
   "metadata": {},
   "source": [
    "### 9.Prediction"
   ]
  },
  {
   "cell_type": "code",
   "execution_count": 68,
   "metadata": {},
   "outputs": [
    {
     "name": "stdout",
     "output_type": "stream",
     "text": [
      "1/1 [==============================] - 0s 282ms/step\n",
      "The predicted - Low price of the last 15 min: 1.1062439680099487\n",
      "The predicted - High price of the last 15 min: 1.1027032136917114\n",
      "The predicted - Open price of the last 15 min: 1.1053898334503174\n",
      "The predicted - Close price of the last 15 min: 1.113823413848877\n"
     ]
    }
   ],
   "source": [
    "# Load the test dataset\n",
    "test_data = pd.read_csv(\"test.csv\")\n",
    "\n",
    "# Select the features for prediction\n",
    "features = [\"open\", \"high\", \"low\", \"close\"]\n",
    "\n",
    "# Normalize the data using the same scaler from training\n",
    "scaler = MinMaxScaler()\n",
    "scaler.fit_transform(test_data[features])\n",
    "\n",
    "# Prepare the input data for prediction\n",
    "sequence_length = 10  # Length of the input sequence\n",
    "X_test = test_data[features][-sequence_length:].values.reshape(1, sequence_length, len(features))\n",
    "\n",
    "# Load the pre-trained model\n",
    "model = load_model(\"lstm2_id10_model.h5\")  # Replace \"lstm2_id10_model.h5\" with the path to your trained model file\n",
    "\n",
    "# Make predictions\n",
    "predictions = model.predict(X_test)\n",
    "\n",
    "# Inverse transform the predictions\n",
    "predictions = scaler.inverse_transform(predictions)\n",
    "\n",
    "# Print the predicted values for the last 15-minute timestamp\n",
    "predicted_low = predictions[0][0]\n",
    "predicted_high = predictions[0][1]\n",
    "predicted_open = predictions[0][2]\n",
    "predicted_close = predictions[0][3]\n",
    "print(f\"The predicted - Low price of the last 15 min: {predicted_low}\")\n",
    "print(f\"The predicted - High price of the last 15 min: {predicted_high}\")\n",
    "print(f\"The predicted - Open price of the last 15 min: {predicted_open}\")\n",
    "print(f\"The predicted - Close price of the last 15 min: {predicted_close}\")"
   ]
  },
  {
   "attachments": {},
   "cell_type": "markdown",
   "metadata": {},
   "source": [
    "### 10. Display prediction using GUI"
   ]
  },
  {
   "cell_type": "code",
   "execution_count": 99,
   "metadata": {},
   "outputs": [
    {
     "name": "stdout",
     "output_type": "stream",
     "text": [
      "1/1 [==============================] - 0s 231ms/step\n"
     ]
    }
   ],
   "source": [
    "\n",
    "# Load the test dataset\n",
    "test_data = pd.read_csv(\"test.csv\")\n",
    "\n",
    "# Select the features for prediction\n",
    "features = [\"open\", \"high\", \"low\", \"close\"]\n",
    "\n",
    "# Normalize the data using the same scaler from training\n",
    "scaler = MinMaxScaler()\n",
    "scaler.fit_transform(test_data[features])\n",
    "\n",
    "# Prepare the input data for prediction\n",
    "sequence_length = 10  # Length of the input sequence\n",
    "X_test = test_data[features][-sequence_length:].values.reshape(1, sequence_length, len(features))\n",
    "\n",
    "# Load the pre-trained model\n",
    "model = load_model(\"lstm2_id10_model.h5\")  # Replace \"lstm2_id10_model.h5\" with the path to your trained model file\n",
    "\n",
    "# Make predictions\n",
    "predictions = model.predict(X_test)\n",
    "\n",
    "# Inverse transform the predictions\n",
    "predictions = scaler.inverse_transform(predictions)\n",
    "\n",
    "\n",
    "# Create the main Tkinter window\n",
    "window = tk.Tk()\n",
    "window.title(\"Stock Prediction\")\n",
    "\n",
    "# Set the window size\n",
    "window.geometry(\"400x200\")\n",
    "\n",
    "# Load the background image\n",
    "bg_image = Image.open(\"background.jpg\")  # Replace \"background_image.jpg\" with your image file\n",
    "bg_image = bg_image.resize((400, 200), Image.LANCZOS)\n",
    "bg_image = ImageTk.PhotoImage(bg_image)\n",
    "\n",
    "# Create a label to hold the background image\n",
    "bg_label = tk.Label(window, image=bg_image)\n",
    "bg_label.place(x=0, y=0, relwidth=1, relheight=1)\n",
    "\n",
    "# Set the font size\n",
    "label_font = font.Font(size=16)\n",
    "\n",
    "# Create labels to display the predicted values\n",
    "low_label = tk.Label(window, text=f\"The predicted - Low price of the last 15 min: {predictions[0][0]}\")\n",
    "low_label.pack()\n",
    "\n",
    "line_label = tk.Label(window, text=\"-----------------------\", font=label_font)\n",
    "line_label.pack()\n",
    "\n",
    "high_label = tk.Label(window, text=f\"The predicted - High price of the last 15 min: {predictions[0][1]}\")\n",
    "high_label.pack()\n",
    "\n",
    "line_label = tk.Label(window, text=\"-----------------------\", font=label_font)\n",
    "line_label.pack()\n",
    "\n",
    "open_label = tk.Label(window, text=f\"The predicted - Open price of the last 15 min: {predictions[0][2]}\")\n",
    "open_label.pack()\n",
    "\n",
    "line_label = tk.Label(window, text=\"-----------------------\", font=label_font)\n",
    "line_label.pack()\n",
    "\n",
    "close_label = tk.Label(window, text=f\"The predicted - Close price of the last 15 min: {predictions[0][3]}\")\n",
    "close_label.pack()\n",
    "\n",
    "line_label = tk.Label(window, text=\"****\", font=label_font)\n",
    "line_label.pack()\n",
    "\n",
    "# Run the Tkinter event loop\n",
    "window.mainloop()"
   ]
  },
  {
   "cell_type": "code",
   "execution_count": 109,
   "metadata": {},
   "outputs": [
    {
     "name": "stdout",
     "output_type": "stream",
     "text": [
      "1/1 [==============================] - 0s 345ms/step\n",
      "1/1 [==============================] - 0s 34ms/step\n",
      "1/1 [==============================] - 0s 28ms/step\n"
     ]
    }
   ],
   "source": [
    "# Load the test dataset\n",
    "test_data = pd.read_csv(\"test.csv\")\n",
    "\n",
    "# Select the features for prediction\n",
    "features = [\"open\", \"high\", \"low\", \"close\"]\n",
    "\n",
    "# Normalize the data using the same scaler from training\n",
    "scaler = MinMaxScaler()\n",
    "scaler.fit_transform(test_data[features])\n",
    "\n",
    "# Prepare the input data for prediction\n",
    "sequence_length = 10  # Length of the input sequence\n",
    "X_test = test_data[features][-sequence_length:].values.reshape(1, sequence_length, len(features))\n",
    "\n",
    "# Load the pre-trained model\n",
    "model = load_model(\"lstm2_id10_model.h5\")  # Replace \"lstm2_id10_model.h5\" with the path to your trained model file\n",
    "\n",
    "# Create the main Tkinter window\n",
    "window = tk.Tk()\n",
    "window.title(\"Stock Prediction\")\n",
    "\n",
    "# Set the window size\n",
    "window.geometry(\"400x250\")\n",
    "\n",
    "# Load the background image\n",
    "bg_image = Image.open(\"background.jpg\")  # Replace \"background_image.jpg\" with your image file\n",
    "bg_image = bg_image.resize((400, 250), Image.LANCZOS)\n",
    "bg_image = ImageTk.PhotoImage(bg_image)\n",
    "\n",
    "# Create a label to hold the background image\n",
    "bg_label = tk.Label(window, image=bg_image)\n",
    "bg_label.place(x=0, y=0, relwidth=1, relheight=1)\n",
    "\n",
    "# Set the font size\n",
    "label_font = font.Font(size=16)\n",
    "\n",
    "# Create a label to display the predicted values\n",
    "result_label = tk.Label(window, text=\"\", font=label_font)\n",
    "result_label.pack()\n",
    "\n",
    "# Function to perform prediction\n",
    "def perform_prediction():\n",
    "    # Make predictions\n",
    "    predictions = model.predict(X_test)\n",
    "\n",
    "    # Inverse transform the predictions\n",
    "    predictions = scaler.inverse_transform(predictions)\n",
    "\n",
    "    # Update the result label with predicted values\n",
    "    result_label.config(text=f\"The predicted values are:\\nLow: {predictions[0][0]}\\n-----------------------\\nHigh: {predictions[0][1]}\\n-----------------------\\nOpen: {predictions[0][2]}\\n-----------------------\\nClose: {predictions[0][3]}\")\n",
    "\n",
    "# Create a predict button\n",
    "predict_button = tk.Button(window, text=\"Predict\", command=perform_prediction)\n",
    "predict_button.pack()\n",
    "\n",
    "# Run the Tkinter event loop\n",
    "window.mainloop()\n"
   ]
  }
 ],
 "metadata": {
  "kernelspec": {
   "display_name": "value_pred",
   "language": "python",
   "name": "python3"
  },
  "language_info": {
   "codemirror_mode": {
    "name": "ipython",
    "version": 3
   },
   "file_extension": ".py",
   "mimetype": "text/x-python",
   "name": "python",
   "nbconvert_exporter": "python",
   "pygments_lexer": "ipython3",
   "version": "3.9.7"
  },
  "orig_nbformat": 4
 },
 "nbformat": 4,
 "nbformat_minor": 2
}
