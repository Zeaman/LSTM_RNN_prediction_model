{
 "cells": [
  {
   "attachments": {},
   "cell_type": "markdown",
   "metadata": {},
   "source": [
    "## MLP-based Values prediction "
   ]
  },
  {
   "attachments": {},
   "cell_type": "markdown",
   "metadata": {},
   "source": [
    "### 1. Install required dependency libraries"
   ]
  },
  {
   "cell_type": "code",
   "execution_count": 35,
   "metadata": {},
   "outputs": [
    {
     "data": {
      "text/plain": [
       "'\\nInstall required dependency libraries\\n-pip install pandas\\n-pip install scikit-learn\\n-pip install tensorflow\\n-import matplotlib.pyplot as plt\\n\\n'"
      ]
     },
     "execution_count": 35,
     "metadata": {},
     "output_type": "execute_result"
    }
   ],
   "source": [
    "\"\"\"\n",
    "Install required dependency libraries\n",
    "-pip install pandas\n",
    "-pip install scikit-learn\n",
    "-pip install tensorflow\n",
    "-import matplotlib.pyplot as plt\n",
    "\n",
    "\"\"\""
   ]
  },
  {
   "attachments": {},
   "cell_type": "markdown",
   "metadata": {},
   "source": [
    "### 2. Import installed required dependency libraries"
   ]
  },
  {
   "cell_type": "code",
   "execution_count": 36,
   "metadata": {},
   "outputs": [],
   "source": [
    "# Import required libraries for LSTM model\n",
    "import pandas as pd\n",
    "import numpy as np\n",
    "from sklearn.preprocessing import StandardScaler\n",
    "from sklearn.metrics import mean_squared_error, mean_absolute_error, r2_score\n",
    "from sklearn.model_selection import train_test_split\n",
    "from tensorflow.keras.models import Sequential\n",
    "from tensorflow.keras.layers import Dense, LSTM, Dropout\n",
    "from tensorflow.keras.callbacks import EarlyStopping"
   ]
  },
  {
   "attachments": {},
   "cell_type": "markdown",
   "metadata": {},
   "source": [
    "### 3. Prepare the datset"
   ]
  },
  {
   "cell_type": "code",
   "execution_count": 37,
   "metadata": {},
   "outputs": [],
   "source": [
    "# Load the CSV file into a pandas dataframe\n",
    "dataframe = pd.read_csv(\"FX_EURUSD.csv\")"
   ]
  },
  {
   "cell_type": "code",
   "execution_count": 38,
   "metadata": {},
   "outputs": [
    {
     "name": "stdout",
     "output_type": "stream",
     "text": [
      "<class 'pandas.core.frame.DataFrame'>\n",
      "RangeIndex: 184233 entries, 0 to 184232\n",
      "Data columns (total 33 columns):\n",
      " #   Column                     Non-Null Count   Dtype  \n",
      "---  ------                     --------------   -----  \n",
      " 0   time                       184233 non-null  object \n",
      " 1   open                       184233 non-null  float64\n",
      " 2   high                       184233 non-null  float64\n",
      " 3   low                        184233 non-null  float64\n",
      " 4   close                      184233 non-null  float64\n",
      " 5   Plot                       184233 non-null  float64\n",
      " 6   MA                         184233 non-null  float64\n",
      " 7   Smoothing Line             184233 non-null  float64\n",
      " 8   MA.1                       184233 non-null  float64\n",
      " 9   Smoothing Line.1           184233 non-null  float64\n",
      " 10  MA.2                       184233 non-null  float64\n",
      " 11  Smoothing Line.2           184233 non-null  float64\n",
      " 12  Rating                     184233 non-null  float64\n",
      " 13  %K                         184233 non-null  float64\n",
      " 14  %D                         184233 non-null  float64\n",
      " 15  RSI                        184233 non-null  float64\n",
      " 16  RSI-based MA               184233 non-null  float64\n",
      " 17  Histogram                  184233 non-null  float64\n",
      " 18  MACD                       184233 non-null  float64\n",
      " 19  Signal                     184233 non-null  float64\n",
      " 20  Accumulation/Distribution  184233 non-null  float64\n",
      " 21  ADR_B                      184233 non-null  float64\n",
      " 22  Aroon Up                   184233 non-null  float64\n",
      " 23  Aroon Down                 184233 non-null  float64\n",
      " 24  ADR                        184233 non-null  float64\n",
      " 25  ADX                        184233 non-null  float64\n",
      " 26  Bollinger Bands %B         184233 non-null  float64\n",
      " 27  ATR                        184233 non-null  float64\n",
      " 28  Plot.1                     184223 non-null  float64\n",
      " 29  Plot.2                     184233 non-null  float64\n",
      " 30  Bollinger Bands Width      184233 non-null  float64\n",
      " 31  BBPower                    184233 non-null  float64\n",
      " 32  MF                         184233 non-null  float64\n",
      "dtypes: float64(32), object(1)\n",
      "memory usage: 46.4+ MB\n"
     ]
    }
   ],
   "source": [
    "#To see the whole inforamtion contenet of the above dataset:\n",
    "dataframe.info()"
   ]
  },
  {
   "cell_type": "code",
   "execution_count": 39,
   "metadata": {},
   "outputs": [
    {
     "data": {
      "text/html": [
       "<div>\n",
       "<style scoped>\n",
       "    .dataframe tbody tr th:only-of-type {\n",
       "        vertical-align: middle;\n",
       "    }\n",
       "\n",
       "    .dataframe tbody tr th {\n",
       "        vertical-align: top;\n",
       "    }\n",
       "\n",
       "    .dataframe thead th {\n",
       "        text-align: right;\n",
       "    }\n",
       "</style>\n",
       "<table border=\"1\" class=\"dataframe\">\n",
       "  <thead>\n",
       "    <tr style=\"text-align: right;\">\n",
       "      <th></th>\n",
       "      <th>time</th>\n",
       "      <th>open</th>\n",
       "      <th>high</th>\n",
       "      <th>low</th>\n",
       "      <th>close</th>\n",
       "      <th>Plot</th>\n",
       "      <th>MA</th>\n",
       "      <th>Smoothing Line</th>\n",
       "      <th>MA.1</th>\n",
       "      <th>Smoothing Line.1</th>\n",
       "      <th>...</th>\n",
       "      <th>Aroon Down</th>\n",
       "      <th>ADR</th>\n",
       "      <th>ADX</th>\n",
       "      <th>Bollinger Bands %B</th>\n",
       "      <th>ATR</th>\n",
       "      <th>Plot.1</th>\n",
       "      <th>Plot.2</th>\n",
       "      <th>Bollinger Bands Width</th>\n",
       "      <th>BBPower</th>\n",
       "      <th>MF</th>\n",
       "    </tr>\n",
       "  </thead>\n",
       "  <tbody>\n",
       "    <tr>\n",
       "      <th>0</th>\n",
       "      <td>2015-11-04T04:30:00Z</td>\n",
       "      <td>1.09472</td>\n",
       "      <td>1.09495</td>\n",
       "      <td>1.09462</td>\n",
       "      <td>1.09465</td>\n",
       "      <td>1.094886</td>\n",
       "      <td>1.095562</td>\n",
       "      <td>1.095559</td>\n",
       "      <td>1.095109</td>\n",
       "      <td>1.095276</td>\n",
       "      <td>...</td>\n",
       "      <td>50.000000</td>\n",
       "      <td>0.000539</td>\n",
       "      <td>20.222071</td>\n",
       "      <td>0.327029</td>\n",
       "      <td>0.000563</td>\n",
       "      <td>-0.212121</td>\n",
       "      <td>-0.000600</td>\n",
       "      <td>0.002423</td>\n",
       "      <td>-0.000308</td>\n",
       "      <td>-0.132298</td>\n",
       "    </tr>\n",
       "    <tr>\n",
       "      <th>1</th>\n",
       "      <td>2015-11-04T04:45:00Z</td>\n",
       "      <td>1.09465</td>\n",
       "      <td>1.09497</td>\n",
       "      <td>1.09465</td>\n",
       "      <td>1.09496</td>\n",
       "      <td>1.094824</td>\n",
       "      <td>1.095554</td>\n",
       "      <td>1.095560</td>\n",
       "      <td>1.095049</td>\n",
       "      <td>1.095204</td>\n",
       "      <td>...</td>\n",
       "      <td>42.857143</td>\n",
       "      <td>0.000504</td>\n",
       "      <td>19.940993</td>\n",
       "      <td>0.464168</td>\n",
       "      <td>0.000546</td>\n",
       "      <td>0.968750</td>\n",
       "      <td>-0.000597</td>\n",
       "      <td>0.002256</td>\n",
       "      <td>-0.000264</td>\n",
       "      <td>-0.082009</td>\n",
       "    </tr>\n",
       "    <tr>\n",
       "      <th>2</th>\n",
       "      <td>2015-11-04T05:00:00Z</td>\n",
       "      <td>1.09496</td>\n",
       "      <td>1.09561</td>\n",
       "      <td>1.09496</td>\n",
       "      <td>1.09531</td>\n",
       "      <td>1.094924</td>\n",
       "      <td>1.095569</td>\n",
       "      <td>1.095562</td>\n",
       "      <td>1.094999</td>\n",
       "      <td>1.095130</td>\n",
       "      <td>...</td>\n",
       "      <td>35.714286</td>\n",
       "      <td>0.000523</td>\n",
       "      <td>18.887983</td>\n",
       "      <td>0.641031</td>\n",
       "      <td>0.000553</td>\n",
       "      <td>0.538462</td>\n",
       "      <td>-0.000566</td>\n",
       "      <td>0.002014</td>\n",
       "      <td>0.000581</td>\n",
       "      <td>-0.105238</td>\n",
       "    </tr>\n",
       "    <tr>\n",
       "      <th>3</th>\n",
       "      <td>2015-11-04T05:15:00Z</td>\n",
       "      <td>1.09531</td>\n",
       "      <td>1.09555</td>\n",
       "      <td>1.09512</td>\n",
       "      <td>1.09534</td>\n",
       "      <td>1.095091</td>\n",
       "      <td>1.095586</td>\n",
       "      <td>1.095566</td>\n",
       "      <td>1.094964</td>\n",
       "      <td>1.095064</td>\n",
       "      <td>...</td>\n",
       "      <td>28.571429</td>\n",
       "      <td>0.000501</td>\n",
       "      <td>17.910188</td>\n",
       "      <td>0.685753</td>\n",
       "      <td>0.000545</td>\n",
       "      <td>0.069767</td>\n",
       "      <td>-0.000494</td>\n",
       "      <td>0.001846</td>\n",
       "      <td>0.000582</td>\n",
       "      <td>-0.091719</td>\n",
       "    </tr>\n",
       "    <tr>\n",
       "      <th>4</th>\n",
       "      <td>2015-11-04T05:30:00Z</td>\n",
       "      <td>1.09534</td>\n",
       "      <td>1.09561</td>\n",
       "      <td>1.09527</td>\n",
       "      <td>1.09556</td>\n",
       "      <td>1.095279</td>\n",
       "      <td>1.095597</td>\n",
       "      <td>1.095574</td>\n",
       "      <td>1.094925</td>\n",
       "      <td>1.095009</td>\n",
       "      <td>...</td>\n",
       "      <td>21.428571</td>\n",
       "      <td>0.000494</td>\n",
       "      <td>17.135591</td>\n",
       "      <td>0.878842</td>\n",
       "      <td>0.000530</td>\n",
       "      <td>0.647059</td>\n",
       "      <td>-0.000358</td>\n",
       "      <td>0.001531</td>\n",
       "      <td>0.000645</td>\n",
       "      <td>-0.073619</td>\n",
       "    </tr>\n",
       "  </tbody>\n",
       "</table>\n",
       "<p>5 rows × 33 columns</p>\n",
       "</div>"
      ],
      "text/plain": [
       "                   time     open     high      low    close      Plot   \n",
       "0  2015-11-04T04:30:00Z  1.09472  1.09495  1.09462  1.09465  1.094886  \\\n",
       "1  2015-11-04T04:45:00Z  1.09465  1.09497  1.09465  1.09496  1.094824   \n",
       "2  2015-11-04T05:00:00Z  1.09496  1.09561  1.09496  1.09531  1.094924   \n",
       "3  2015-11-04T05:15:00Z  1.09531  1.09555  1.09512  1.09534  1.095091   \n",
       "4  2015-11-04T05:30:00Z  1.09534  1.09561  1.09527  1.09556  1.095279   \n",
       "\n",
       "         MA  Smoothing Line      MA.1  Smoothing Line.1  ...  Aroon Down   \n",
       "0  1.095562        1.095559  1.095109          1.095276  ...   50.000000  \\\n",
       "1  1.095554        1.095560  1.095049          1.095204  ...   42.857143   \n",
       "2  1.095569        1.095562  1.094999          1.095130  ...   35.714286   \n",
       "3  1.095586        1.095566  1.094964          1.095064  ...   28.571429   \n",
       "4  1.095597        1.095574  1.094925          1.095009  ...   21.428571   \n",
       "\n",
       "        ADR        ADX  Bollinger Bands %B       ATR    Plot.1    Plot.2   \n",
       "0  0.000539  20.222071            0.327029  0.000563 -0.212121 -0.000600  \\\n",
       "1  0.000504  19.940993            0.464168  0.000546  0.968750 -0.000597   \n",
       "2  0.000523  18.887983            0.641031  0.000553  0.538462 -0.000566   \n",
       "3  0.000501  17.910188            0.685753  0.000545  0.069767 -0.000494   \n",
       "4  0.000494  17.135591            0.878842  0.000530  0.647059 -0.000358   \n",
       "\n",
       "   Bollinger Bands Width   BBPower        MF  \n",
       "0               0.002423 -0.000308 -0.132298  \n",
       "1               0.002256 -0.000264 -0.082009  \n",
       "2               0.002014  0.000581 -0.105238  \n",
       "3               0.001846  0.000582 -0.091719  \n",
       "4               0.001531  0.000645 -0.073619  \n",
       "\n",
       "[5 rows x 33 columns]"
      ]
     },
     "execution_count": 39,
     "metadata": {},
     "output_type": "execute_result"
    }
   ],
   "source": [
    "# To see the first five data content of the above dataset:\n",
    "dataframe.head()"
   ]
  },
  {
   "cell_type": "code",
   "execution_count": 40,
   "metadata": {},
   "outputs": [],
   "source": [
    "# Drop the rows containing NaN values\n",
    "dataframe = dataframe.dropna()"
   ]
  },
  {
   "cell_type": "code",
   "execution_count": 41,
   "metadata": {},
   "outputs": [],
   "source": [
    "# Extract the time and target columns into separate variables\n",
    "time = dataframe.iloc[:, 0].values\n",
    "target = dataframe.iloc[:, 2:5].values"
   ]
  },
  {
   "cell_type": "code",
   "execution_count": 42,
   "metadata": {},
   "outputs": [],
   "source": [
    "# Remove the time and target columns from the original dataframe to get the input data\n",
    "inputs =dataframe.iloc[:, 5:].values"
   ]
  },
  {
   "cell_type": "code",
   "execution_count": 43,
   "metadata": {},
   "outputs": [],
   "source": [
    "# Create a new dataframe with only the input data\n",
    "new_dataframe = pd.DataFrame(inputs)"
   ]
  },
  {
   "cell_type": "code",
   "execution_count": 44,
   "metadata": {},
   "outputs": [
    {
     "name": "stdout",
     "output_type": "stream",
     "text": [
      "         0         1         2         3         4         5         6    \n",
      "0  1.094886  1.095562  1.095559  1.095109  1.095276  1.099741  1.100111  \\\n",
      "1  1.094824  1.095554  1.095560  1.095049  1.095204  1.099701  1.100073   \n",
      "2  1.094924  1.095569  1.095562  1.094999  1.095130  1.099665  1.100035   \n",
      "3  1.095091  1.095586  1.095566  1.094964  1.095064  1.099628  1.099997   \n",
      "4  1.095279  1.095597  1.095574  1.094925  1.095009  1.099592  1.099959   \n",
      "\n",
      "         7          8          9   ...         18        19         20   \n",
      "0 -0.512121  52.631579  47.125741  ...  50.000000  0.000539  20.222071  \\\n",
      "1 -0.109091  70.760234  56.902962  ...  42.857143  0.000504  19.940993   \n",
      "2  0.090909  83.870968  69.087594  ...  35.714286  0.000523  18.887983   \n",
      "3 -0.045455  85.483871  80.038358  ...  28.571429  0.000501  17.910188   \n",
      "4  0.021212  97.311828  88.888889  ...  21.428571  0.000494  17.135591   \n",
      "\n",
      "         21        22        23        24        25        26        27  \n",
      "0  0.327029  0.000563 -0.212121 -0.000600  0.002423 -0.000308 -0.132298  \n",
      "1  0.464168  0.000546  0.968750 -0.000597  0.002256 -0.000264 -0.082009  \n",
      "2  0.641031  0.000553  0.538462 -0.000566  0.002014  0.000581 -0.105238  \n",
      "3  0.685753  0.000545  0.069767 -0.000494  0.001846  0.000582 -0.091719  \n",
      "4  0.878842  0.000530  0.647059 -0.000358  0.001531  0.000645 -0.073619  \n",
      "\n",
      "[5 rows x 28 columns]\n"
     ]
    }
   ],
   "source": [
    "# Display the new dataframe\n",
    "print(new_dataframe.head())"
   ]
  },
  {
   "cell_type": "code",
   "execution_count": 45,
   "metadata": {},
   "outputs": [],
   "source": [
    "# Split the input data and target values into training and testing datasets\n",
    "X_train, X_test, y_train, y_test = train_test_split(inputs, target, test_size=0.2, random_state=42)"
   ]
  },
  {
   "cell_type": "code",
   "execution_count": 46,
   "metadata": {},
   "outputs": [],
   "source": [
    "# Normalize the input data using a scaler like the StandardScaler from sklearn.preprocessing\n",
    "scaler = StandardScaler()\n",
    "X_train_scaled = scaler.fit_transform(X_train)\n",
    "X_test_scaled = scaler.transform(X_test)"
   ]
  },
  {
   "cell_type": "code",
   "execution_count": 47,
   "metadata": {},
   "outputs": [],
   "source": [
    "# Reshape the input data into a 3D tensor for use with the LSTM model\n",
    "X_train_reshaped = np.reshape(X_train_scaled, (X_train_scaled.shape[0], 1, X_train_scaled.shape[1]))\n",
    "X_test_reshaped = np.reshape(X_test_scaled, (X_test_scaled.shape[0], 1, X_test_scaled.shape[1]))"
   ]
  },
  {
   "attachments": {},
   "cell_type": "markdown",
   "metadata": {},
   "source": [
    "### 4. Define and build the LSTM-model"
   ]
  },
  {
   "cell_type": "code",
   "execution_count": 48,
   "metadata": {},
   "outputs": [],
   "source": [
    "# Create an instance of the Sequential model from Keras\n",
    "lstm_model = Sequential()"
   ]
  },
  {
   "cell_type": "code",
   "execution_count": 49,
   "metadata": {},
   "outputs": [],
   "source": [
    "# Add an LSTM layer with 64 units and input_shape=(1, X_train_scaled.shape[1])\n",
    "lstm_model.add(LSTM(units=64, input_shape=(1, X_train_scaled.shape[1])))"
   ]
  },
  {
   "cell_type": "code",
   "execution_count": 50,
   "metadata": {},
   "outputs": [],
   "source": [
    "# Add a dropout layer to avoid overfitting\n",
    "lstm_model.add(Dropout(0.2))"
   ]
  },
  {
   "cell_type": "code",
   "execution_count": 51,
   "metadata": {},
   "outputs": [],
   "source": [
    "# Add a dense layer with 3 units for the output\n",
    "lstm_model.add(Dense(units=3))"
   ]
  },
  {
   "cell_type": "code",
   "execution_count": 52,
   "metadata": {},
   "outputs": [],
   "source": [
    "# Compile the model using a mean squared error loss function and the Adam optimizer\n",
    "lstm_model.compile(loss='mean_squared_error', optimizer='adam')"
   ]
  },
  {
   "attachments": {},
   "cell_type": "markdown",
   "metadata": {},
   "source": [
    "### 5. Train the LSTM-model"
   ]
  },
  {
   "cell_type": "code",
   "execution_count": 53,
   "metadata": {},
   "outputs": [
    {
     "name": "stdout",
     "output_type": "stream",
     "text": [
      "Epoch 1/15\n",
      "4606/4606 [==============================] - 30s 6ms/step - loss: 0.0252\n",
      "Epoch 2/15\n",
      "4606/4606 [==============================] - 26s 6ms/step - loss: 8.8674e-04\n",
      "Epoch 3/15\n",
      "4606/4606 [==============================] - 29s 6ms/step - loss: 3.6910e-05\n",
      "Epoch 4/15\n",
      "4606/4606 [==============================] - 22s 5ms/step - loss: 2.2450e-05\n",
      "Epoch 5/15\n",
      "4606/4606 [==============================] - 25s 5ms/step - loss: 1.9961e-05\n",
      "Epoch 6/15\n",
      "4606/4606 [==============================] - 23s 5ms/step - loss: 1.9310e-05\n",
      "Epoch 7/15\n",
      "4606/4606 [==============================] - 20s 4ms/step - loss: 1.9059e-05\n",
      "Epoch 8/15\n",
      "4606/4606 [==============================] - 18s 4ms/step - loss: 1.9156e-05\n",
      "Epoch 9/15\n",
      "4606/4606 [==============================] - 19s 4ms/step - loss: 1.8815e-05\n",
      "Epoch 10/15\n",
      "4606/4606 [==============================] - 15s 3ms/step - loss: 1.8359e-05\n",
      "Epoch 11/15\n",
      "4606/4606 [==============================] - 18s 4ms/step - loss: 1.8674e-05\n",
      "Epoch 12/15\n",
      "4606/4606 [==============================] - 18s 4ms/step - loss: 1.8695e-05\n",
      "Epoch 13/15\n",
      "4606/4606 [==============================] - 15s 3ms/step - loss: 1.8515e-05\n",
      "Epoch 14/15\n",
      "4606/4606 [==============================] - 15s 3ms/step - loss: 1.8698e-05\n",
      "Epoch 15/15\n",
      "4606/4606 [==============================] - 16s 3ms/step - loss: 1.8680e-05\n"
     ]
    },
    {
     "data": {
      "text/plain": [
       "<keras.callbacks.History at 0x23e2cba6400>"
      ]
     },
     "execution_count": 53,
     "metadata": {},
     "output_type": "execute_result"
    }
   ],
   "source": [
    "# Train the model on the training dataset for 100 epochs\n",
    "lstm_model.fit(X_train_reshaped, y_train, epochs=15, batch_size=32)"
   ]
  },
  {
   "attachments": {},
   "cell_type": "markdown",
   "metadata": {},
   "source": [
    "### 6. Evaluate the trained model"
   ]
  },
  {
   "cell_type": "code",
   "execution_count": 54,
   "metadata": {},
   "outputs": [
    {
     "name": "stdout",
     "output_type": "stream",
     "text": [
      "1152/1152 [==============================] - 3s 2ms/step\n"
     ]
    }
   ],
   "source": [
    "# Use the trained model to make predictions on the testing dataset\n",
    "y_pred = lstm_model.predict(X_test_reshaped)"
   ]
  },
  {
   "cell_type": "code",
   "execution_count": 55,
   "metadata": {},
   "outputs": [],
   "source": [
    "# Create a new scaler for the output features\n",
    "output_scaler = StandardScaler()\n",
    "output_scaler.fit(target)\n",
    "# Invert the scaling of the predictions and actual values\n",
    "y_pred = output_scaler.inverse_transform(y_pred)\n",
    "y_test = output_scaler.inverse_transform(y_test)"
   ]
  },
  {
   "cell_type": "code",
   "execution_count": 56,
   "metadata": {},
   "outputs": [],
   "source": [
    "# Evaluate the performance of the model using metrics like mean squared error, mean absolute error, and R-squared\n",
    "mse = mean_squared_error(y_test, y_pred)\n",
    "mae = mean_absolute_error(y_test, y_pred)\n",
    "r2 = r2_score(y_test, y_pred)"
   ]
  },
  {
   "cell_type": "code",
   "execution_count": 57,
   "metadata": {},
   "outputs": [
    {
     "name": "stdout",
     "output_type": "stream",
     "text": [
      "Mean Squared Error: 1.401944928539902e-08\n",
      "Mean Absolute Error: 9.036521896306921e-05\n",
      "R-squared: 0.9985770963901572\n"
     ]
    }
   ],
   "source": [
    "print(f\"Mean Squared Error: {mse}\")\n",
    "print(f\"Mean Absolute Error: {mae}\")\n",
    "print(f\"R-squared: {r2}\")"
   ]
  },
  {
   "attachments": {},
   "cell_type": "markdown",
   "metadata": {},
   "source": [
    "### 7. Save the model"
   ]
  },
  {
   "cell_type": "code",
   "execution_count": 58,
   "metadata": {},
   "outputs": [],
   "source": [
    "# Save the model\n",
    "lstm_model.save(\"lstm_model.h5\")"
   ]
  }
 ],
 "metadata": {
  "kernelspec": {
   "display_name": "value_pred",
   "language": "python",
   "name": "python3"
  },
  "language_info": {
   "codemirror_mode": {
    "name": "ipython",
    "version": 3
   },
   "file_extension": ".py",
   "mimetype": "text/x-python",
   "name": "python",
   "nbconvert_exporter": "python",
   "pygments_lexer": "ipython3",
   "version": "3.9.7"
  },
  "orig_nbformat": 4
 },
 "nbformat": 4,
 "nbformat_minor": 2
}
