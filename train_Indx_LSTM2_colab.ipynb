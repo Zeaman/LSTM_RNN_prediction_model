{
  "cells": [
    {
      "attachments": {},
      "cell_type": "markdown",
      "metadata": {
        "id": "fxl7bBU_mqgC"
      },
      "source": [
        "## MLP-based Values prediction "
      ]
    },
    {
      "attachments": {},
      "cell_type": "markdown",
      "metadata": {
        "id": "_DrYmC35mqgG"
      },
      "source": [
        "### 1. Install required dependency libraries"
      ]
    },
    {
      "cell_type": "code",
      "execution_count": 1,
      "metadata": {
        "id": "_RtDb_UvmqgH",
        "outputId": "2a07cb22-cf3c-45e4-c756-2a86588fbbda"
      },
      "outputs": [
        {
          "data": {
            "text/plain": [
              "'\\nInstall required dependency libraries\\n-pip install pandas\\n-pip install scikit-learn\\n-pip install tensorflow\\n-import matplotlib.pyplot as plt\\n\\n'"
            ]
          },
          "execution_count": 1,
          "metadata": {},
          "output_type": "execute_result"
        }
      ],
      "source": [
        "\"\"\"\n",
        "Install required dependency libraries\n",
        "-pip install pandas\n",
        "-pip install scikit-learn\n",
        "-pip install tensorflow\n",
        "-import matplotlib.pyplot as plt\n",
        "\n",
        "\"\"\""
      ]
    },
    {
      "attachments": {},
      "cell_type": "markdown",
      "metadata": {
        "id": "BOVkHnPomqgI"
      },
      "source": [
        "### 2. Import installed required dependency libraries"
      ]
    },
    {
      "cell_type": "code",
      "execution_count": 2,
      "metadata": {
        "id": "Rg2O2J3vmqgJ"
      },
      "outputs": [],
      "source": [
        "# Import required libraries for LSTM model\n",
        "import os\n",
        "#import gdown # Colab\n",
        "import numpy as np\n",
        "import pandas as pd\n",
        "import matplotlib.pyplot as plt\n",
        "from keras.models import Sequential\n",
        "from sklearn.preprocessing import MinMaxScaler\n",
        "from sklearn.preprocessing import StandardScaler\n",
        "from sklearn.model_selection import train_test_split\n",
        "from tensorflow.keras.layers import Dense, LSTM, Dropout\n",
        "from tensorflow.keras.callbacks import EarlyStopping\n",
        "from sklearn.metrics import mean_absolute_error, mean_squared_error, r2_score"
      ]
    },
    {
      "attachments": {},
      "cell_type": "markdown",
      "metadata": {
        "id": "3kv0azY4mqgJ"
      },
      "source": [
        "### 3. Prepare the datset"
      ]
    },
    {
      "attachments": {},
      "cell_type": "markdown",
      "metadata": {
        "id": "3Ixe3VoMpHMH"
      },
      "source": [
        "#### Shareable linke: https://drive.google.com/file/d/1BLc-MzpYVGGxlzl42rDsU90Lhi6TZPVZ/view?usp=share_link"
      ]
    },
    {
      "cell_type": "code",
      "execution_count": 3,
      "metadata": {
        "colab": {
          "base_uri": "https://localhost:8080/"
        },
        "id": "NJVl9yeIosXI",
        "outputId": "51ef72b3-d968-42ac-a917-6f2e5b82cc40"
      },
      "outputs": [],
      "source": [
        "# Use for colab\n",
        "#!gdown --id 1BLc-MzpYVGGxlzl42rDsU90Lhi6TZPVZ"
      ]
    },
    {
      "cell_type": "code",
      "execution_count": 4,
      "metadata": {
        "id": "n34jzgwMmqgJ"
      },
      "outputs": [],
      "source": [
        "# Load the CSV file into a pandas dataframe\n",
        "dataframe = pd.read_csv(\"dataset.csv\")"
      ]
    },
    {
      "cell_type": "code",
      "execution_count": 5,
      "metadata": {
        "colab": {
          "base_uri": "https://localhost:8080/"
        },
        "id": "Y1LM4OkYmqgJ",
        "outputId": "d033fc77-35b2-4f88-d67e-bbbfc2e0dca4"
      },
      "outputs": [
        {
          "name": "stdout",
          "output_type": "stream",
          "text": [
            "<class 'pandas.core.frame.DataFrame'>\n",
            "RangeIndex: 248776 entries, 0 to 248775\n",
            "Data columns (total 94 columns):\n",
            " #   Column                     Non-Null Count   Dtype  \n",
            "---  ------                     --------------   -----  \n",
            " 0   index                      248776 non-null  int64  \n",
            " 1   open                       248776 non-null  float64\n",
            " 2   high                       248776 non-null  float64\n",
            " 3   close                      248776 non-null  float64\n",
            " 4   low                        248776 non-null  float64\n",
            " 5   timestamp                  248776 non-null  int64  \n",
            " 6   transactions               248776 non-null  int64  \n",
            " 7   volume                     248776 non-null  int64  \n",
            " 8   volume_adi                 248776 non-null  float64\n",
            " 9   volume_obv                 248776 non-null  int64  \n",
            " 10  volume_cmf                 248776 non-null  float64\n",
            " 11  volume_fi                  248776 non-null  float64\n",
            " 12  volume_em                  248776 non-null  float64\n",
            " 13  volume_sma_em              248776 non-null  float64\n",
            " 14  volume_vpt                 248776 non-null  float64\n",
            " 15  volume_vwap                248776 non-null  float64\n",
            " 16  volume_mfi                 248776 non-null  float64\n",
            " 17  volume_nvi                 248776 non-null  float64\n",
            " 18  volatility_bbm             248776 non-null  float64\n",
            " 19  volatility_bbh             248776 non-null  float64\n",
            " 20  volatility_bbl             248776 non-null  float64\n",
            " 21  volatility_bbw             248776 non-null  float64\n",
            " 22  volatility_bbp             248776 non-null  float64\n",
            " 23  volatility_bbhi            248776 non-null  float64\n",
            " 24  volatility_bbli            248776 non-null  float64\n",
            " 25  volatility_kcc             248776 non-null  float64\n",
            " 26  volatility_kch             248776 non-null  float64\n",
            " 27  volatility_kcl             248776 non-null  float64\n",
            " 28  volatility_kcw             248776 non-null  float64\n",
            " 29  volatility_kcp             248776 non-null  float64\n",
            " 30  volatility_kchi            248776 non-null  float64\n",
            " 31  volatility_kcli            248776 non-null  float64\n",
            " 32  volatility_dcl             248776 non-null  float64\n",
            " 33  volatility_dch             248776 non-null  float64\n",
            " 34  volatility_dcm             248776 non-null  float64\n",
            " 35  volatility_dcw             248776 non-null  float64\n",
            " 36  volatility_dcp             248776 non-null  float64\n",
            " 37  volatility_atr             248776 non-null  float64\n",
            " 38  volatility_ui              248776 non-null  float64\n",
            " 39  trend_macd                 248776 non-null  float64\n",
            " 40  trend_macd_signal          248776 non-null  float64\n",
            " 41  trend_macd_diff            248776 non-null  float64\n",
            " 42  trend_sma_fast             248776 non-null  float64\n",
            " 43  trend_sma_slow             248776 non-null  float64\n",
            " 44  trend_ema_fast             248776 non-null  float64\n",
            " 45  trend_ema_slow             248776 non-null  float64\n",
            " 46  trend_vortex_ind_pos       248776 non-null  float64\n",
            " 47  trend_vortex_ind_neg       248776 non-null  float64\n",
            " 48  trend_vortex_ind_diff      248776 non-null  float64\n",
            " 49  trend_trix                 248776 non-null  float64\n",
            " 50  trend_mass_index           248776 non-null  float64\n",
            " 51  trend_dpo                  248776 non-null  float64\n",
            " 52  trend_kst                  248776 non-null  float64\n",
            " 53  trend_kst_sig              248776 non-null  float64\n",
            " 54  trend_kst_diff             248776 non-null  float64\n",
            " 55  trend_ichimoku_conv        248776 non-null  float64\n",
            " 56  trend_ichimoku_base        248776 non-null  float64\n",
            " 57  trend_ichimoku_a           248776 non-null  float64\n",
            " 58  trend_ichimoku_b           248776 non-null  float64\n",
            " 59  trend_stc                  248776 non-null  float64\n",
            " 60  trend_adx                  248776 non-null  float64\n",
            " 61  trend_adx_pos              248776 non-null  float64\n",
            " 62  trend_adx_neg              248776 non-null  float64\n",
            " 63  trend_cci                  248776 non-null  float64\n",
            " 64  trend_visual_ichimoku_a    248776 non-null  float64\n",
            " 65  trend_visual_ichimoku_b    248776 non-null  float64\n",
            " 66  trend_aroon_up             248776 non-null  float64\n",
            " 67  trend_aroon_down           248776 non-null  float64\n",
            " 68  trend_aroon_ind            248776 non-null  float64\n",
            " 69  trend_psar_up              248776 non-null  float64\n",
            " 70  trend_psar_down            248776 non-null  float64\n",
            " 71  trend_psar_up_indicator    248776 non-null  float64\n",
            " 72  trend_psar_down_indicator  248776 non-null  float64\n",
            " 73  momentum_rsi               248776 non-null  float64\n",
            " 74  momentum_stoch_rsi         248776 non-null  float64\n",
            " 75  momentum_stoch_rsi_k       248776 non-null  float64\n",
            " 76  momentum_stoch_rsi_d       248776 non-null  float64\n",
            " 77  momentum_tsi               248776 non-null  float64\n",
            " 78  momentum_uo                248776 non-null  float64\n",
            " 79  momentum_stoch             248776 non-null  float64\n",
            " 80  momentum_stoch_signal      248776 non-null  float64\n",
            " 81  momentum_wr                248776 non-null  float64\n",
            " 82  momentum_ao                248776 non-null  float64\n",
            " 83  momentum_roc               248776 non-null  float64\n",
            " 84  momentum_ppo               248776 non-null  float64\n",
            " 85  momentum_ppo_signal        248776 non-null  float64\n",
            " 86  momentum_ppo_hist          248776 non-null  float64\n",
            " 87  momentum_pvo               248776 non-null  float64\n",
            " 88  momentum_pvo_signal        248776 non-null  float64\n",
            " 89  momentum_pvo_hist          248776 non-null  float64\n",
            " 90  momentum_kama              248776 non-null  float64\n",
            " 91  others_dr                  248776 non-null  float64\n",
            " 92  others_dlr                 248776 non-null  float64\n",
            " 93  others_cr                  248776 non-null  float64\n",
            "dtypes: float64(89), int64(5)\n",
            "memory usage: 178.4 MB\n"
          ]
        }
      ],
      "source": [
        "#To see the whole inforamtion contenet of the above dataset:\n",
        "dataframe.info()"
      ]
    },
    {
      "cell_type": "code",
      "execution_count": 6,
      "metadata": {
        "colab": {
          "base_uri": "https://localhost:8080/",
          "height": 299
        },
        "id": "g0UxkDDqmqgL",
        "outputId": "d619c796-33d7-44e4-d424-766f892e267c"
      },
      "outputs": [
        {
          "data": {
            "text/html": [
              "<div>\n",
              "<style scoped>\n",
              "    .dataframe tbody tr th:only-of-type {\n",
              "        vertical-align: middle;\n",
              "    }\n",
              "\n",
              "    .dataframe tbody tr th {\n",
              "        vertical-align: top;\n",
              "    }\n",
              "\n",
              "    .dataframe thead th {\n",
              "        text-align: right;\n",
              "    }\n",
              "</style>\n",
              "<table border=\"1\" class=\"dataframe\">\n",
              "  <thead>\n",
              "    <tr style=\"text-align: right;\">\n",
              "      <th></th>\n",
              "      <th>index</th>\n",
              "      <th>open</th>\n",
              "      <th>high</th>\n",
              "      <th>close</th>\n",
              "      <th>low</th>\n",
              "      <th>timestamp</th>\n",
              "      <th>transactions</th>\n",
              "      <th>volume</th>\n",
              "      <th>volume_adi</th>\n",
              "      <th>volume_obv</th>\n",
              "      <th>...</th>\n",
              "      <th>momentum_ppo</th>\n",
              "      <th>momentum_ppo_signal</th>\n",
              "      <th>momentum_ppo_hist</th>\n",
              "      <th>momentum_pvo</th>\n",
              "      <th>momentum_pvo_signal</th>\n",
              "      <th>momentum_pvo_hist</th>\n",
              "      <th>momentum_kama</th>\n",
              "      <th>others_dr</th>\n",
              "      <th>others_dlr</th>\n",
              "      <th>others_cr</th>\n",
              "    </tr>\n",
              "  </thead>\n",
              "  <tbody>\n",
              "    <tr>\n",
              "      <th>0</th>\n",
              "      <td>0</td>\n",
              "      <td>1.30785</td>\n",
              "      <td>1.30805</td>\n",
              "      <td>1.30802</td>\n",
              "      <td>1.30776</td>\n",
              "      <td>1367884800000</td>\n",
              "      <td>471</td>\n",
              "      <td>471</td>\n",
              "      <td>373.551724</td>\n",
              "      <td>471</td>\n",
              "      <td>...</td>\n",
              "      <td>0.000000</td>\n",
              "      <td>0.000000</td>\n",
              "      <td>0.000000</td>\n",
              "      <td>0.000000</td>\n",
              "      <td>0.000000</td>\n",
              "      <td>0.000000</td>\n",
              "      <td>1.308020</td>\n",
              "      <td>12.794800</td>\n",
              "      <td>0.000000</td>\n",
              "      <td>0.000000</td>\n",
              "    </tr>\n",
              "    <tr>\n",
              "      <th>1</th>\n",
              "      <td>1</td>\n",
              "      <td>1.30803</td>\n",
              "      <td>1.30840</td>\n",
              "      <td>1.30830</td>\n",
              "      <td>1.30785</td>\n",
              "      <td>1367885700000</td>\n",
              "      <td>561</td>\n",
              "      <td>561</td>\n",
              "      <td>730.551724</td>\n",
              "      <td>1032</td>\n",
              "      <td>...</td>\n",
              "      <td>0.001708</td>\n",
              "      <td>0.000342</td>\n",
              "      <td>0.001366</td>\n",
              "      <td>1.503033</td>\n",
              "      <td>0.300607</td>\n",
              "      <td>1.202426</td>\n",
              "      <td>1.308143</td>\n",
              "      <td>0.021406</td>\n",
              "      <td>0.021404</td>\n",
              "      <td>0.021406</td>\n",
              "    </tr>\n",
              "    <tr>\n",
              "      <th>2</th>\n",
              "      <td>2</td>\n",
              "      <td>1.30830</td>\n",
              "      <td>1.30884</td>\n",
              "      <td>1.30781</td>\n",
              "      <td>1.30780</td>\n",
              "      <td>1367886600000</td>\n",
              "      <td>2309</td>\n",
              "      <td>2309</td>\n",
              "      <td>-1534.044430</td>\n",
              "      <td>-1277</td>\n",
              "      <td>...</td>\n",
              "      <td>0.000038</td>\n",
              "      <td>0.000281</td>\n",
              "      <td>-0.000243</td>\n",
              "      <td>24.809883</td>\n",
              "      <td>5.202462</td>\n",
              "      <td>19.607421</td>\n",
              "      <td>1.307998</td>\n",
              "      <td>-0.037453</td>\n",
              "      <td>-0.037460</td>\n",
              "      <td>-0.016055</td>\n",
              "    </tr>\n",
              "    <tr>\n",
              "      <th>3</th>\n",
              "      <td>3</td>\n",
              "      <td>1.30781</td>\n",
              "      <td>1.30836</td>\n",
              "      <td>1.30810</td>\n",
              "      <td>1.30771</td>\n",
              "      <td>1367887500000</td>\n",
              "      <td>1909</td>\n",
              "      <td>1909</td>\n",
              "      <td>-1152.244430</td>\n",
              "      <td>632</td>\n",
              "      <td>...</td>\n",
              "      <td>0.000498</td>\n",
              "      <td>0.000324</td>\n",
              "      <td>0.000173</td>\n",
              "      <td>32.724413</td>\n",
              "      <td>10.706852</td>\n",
              "      <td>22.017561</td>\n",
              "      <td>1.308042</td>\n",
              "      <td>0.022174</td>\n",
              "      <td>0.022172</td>\n",
              "      <td>0.006116</td>\n",
              "    </tr>\n",
              "    <tr>\n",
              "      <th>4</th>\n",
              "      <td>4</td>\n",
              "      <td>1.30809</td>\n",
              "      <td>1.30833</td>\n",
              "      <td>1.30819</td>\n",
              "      <td>1.30791</td>\n",
              "      <td>1367888400000</td>\n",
              "      <td>926</td>\n",
              "      <td>926</td>\n",
              "      <td>-843.577763</td>\n",
              "      <td>1558</td>\n",
              "      <td>...</td>\n",
              "      <td>0.001401</td>\n",
              "      <td>0.000539</td>\n",
              "      <td>0.000862</td>\n",
              "      <td>29.460350</td>\n",
              "      <td>14.457552</td>\n",
              "      <td>15.002799</td>\n",
              "      <td>1.308107</td>\n",
              "      <td>0.006880</td>\n",
              "      <td>0.006880</td>\n",
              "      <td>0.012997</td>\n",
              "    </tr>\n",
              "  </tbody>\n",
              "</table>\n",
              "<p>5 rows × 94 columns</p>\n",
              "</div>"
            ],
            "text/plain": [
              "   index     open     high    close      low      timestamp  transactions   \n",
              "0      0  1.30785  1.30805  1.30802  1.30776  1367884800000           471  \\\n",
              "1      1  1.30803  1.30840  1.30830  1.30785  1367885700000           561   \n",
              "2      2  1.30830  1.30884  1.30781  1.30780  1367886600000          2309   \n",
              "3      3  1.30781  1.30836  1.30810  1.30771  1367887500000          1909   \n",
              "4      4  1.30809  1.30833  1.30819  1.30791  1367888400000           926   \n",
              "\n",
              "   volume   volume_adi  volume_obv  ...  momentum_ppo  momentum_ppo_signal   \n",
              "0     471   373.551724         471  ...      0.000000             0.000000  \\\n",
              "1     561   730.551724        1032  ...      0.001708             0.000342   \n",
              "2    2309 -1534.044430       -1277  ...      0.000038             0.000281   \n",
              "3    1909 -1152.244430         632  ...      0.000498             0.000324   \n",
              "4     926  -843.577763        1558  ...      0.001401             0.000539   \n",
              "\n",
              "   momentum_ppo_hist  momentum_pvo  momentum_pvo_signal  momentum_pvo_hist   \n",
              "0           0.000000      0.000000             0.000000           0.000000  \\\n",
              "1           0.001366      1.503033             0.300607           1.202426   \n",
              "2          -0.000243     24.809883             5.202462          19.607421   \n",
              "3           0.000173     32.724413            10.706852          22.017561   \n",
              "4           0.000862     29.460350            14.457552          15.002799   \n",
              "\n",
              "   momentum_kama  others_dr  others_dlr  others_cr  \n",
              "0       1.308020  12.794800    0.000000   0.000000  \n",
              "1       1.308143   0.021406    0.021404   0.021406  \n",
              "2       1.307998  -0.037453   -0.037460  -0.016055  \n",
              "3       1.308042   0.022174    0.022172   0.006116  \n",
              "4       1.308107   0.006880    0.006880   0.012997  \n",
              "\n",
              "[5 rows x 94 columns]"
            ]
          },
          "execution_count": 6,
          "metadata": {},
          "output_type": "execute_result"
        }
      ],
      "source": [
        "# To see the first five data content of the above dataset:\n",
        "dataframe.head()"
      ]
    },
    {
      "cell_type": "code",
      "execution_count": 7,
      "metadata": {
        "id": "Rw4DjMjSmqgN"
      },
      "outputs": [],
      "source": [
        "# Drop the rows containing NaN values\n",
        "dataframe = dataframe.dropna()"
      ]
    },
    {
      "cell_type": "code",
      "execution_count": 8,
      "metadata": {
        "id": "5kp6jF8hmqgO"
      },
      "outputs": [],
      "source": [
        "# select the relevant features for prediction\n",
        "features = ['open', 'high', 'close', 'low']"
      ]
    },
    {
      "cell_type": "code",
      "execution_count": 9,
      "metadata": {
        "id": "jUTzhtVpmqgO"
      },
      "outputs": [],
      "source": [
        "# normalize the data\n",
        "scaler = MinMaxScaler()\n",
        "scaled_dataframe = scaler.fit_transform(dataframe[features])"
      ]
    },
    {
      "cell_type": "code",
      "execution_count": 10,
      "metadata": {
        "id": "qCw8IGV8mqgP"
      },
      "outputs": [],
      "source": [
        "# split the data into training and testing sets\n",
        "train_size = int(len(scaled_dataframe) * 0.8)\n",
        "train_data = scaled_dataframe[:train_size, :]\n",
        "test_data = scaled_dataframe[train_size:, :]"
      ]
    },
    {
      "cell_type": "code",
      "execution_count": 11,
      "metadata": {
        "id": "fQQKY5RDmqgP"
      },
      "outputs": [],
      "source": [
        "# define the training and testing datasets\n",
        "def create_dataset(data, window_size=1):\n",
        "    X, y = [], []\n",
        "    for i in range(len(data) - window_size):\n",
        "        X.append(data[i:(i + window_size), :])\n",
        "        y.append(data[i + window_size, :])\n",
        "    return np.array(X), np.array(y)"
      ]
    },
    {
      "cell_type": "code",
      "execution_count": 12,
      "metadata": {
        "id": "VDpSR28hmqgQ"
      },
      "outputs": [],
      "source": [
        "window_size = 60\n",
        "X_train, y_train = create_dataset(train_data, window_size)\n",
        "X_test, y_test = create_dataset(test_data, window_size)"
      ]
    },
    {
      "attachments": {},
      "cell_type": "markdown",
      "metadata": {
        "id": "VCggqbvFmqgS"
      },
      "source": [
        "### 4. Define and build the LSTM-model"
      ]
    },
    {
      "cell_type": "code",
      "execution_count": 13,
      "metadata": {
        "id": "Rmh3s7NqmqgW"
      },
      "outputs": [],
      "source": [
        "# Add an LSTM layer with 50 units and input shape of (60, 4)\n",
        "model = Sequential()\n",
        "model.add(LSTM(50, return_sequences=True, input_shape=(window_size, 4)))\n",
        "# Add dropout layer\n",
        "model.add(Dropout(0.2))\n",
        "# Add another LSTM layer with 50 units\n",
        "model.add(LSTM(50, return_sequences=True))\n",
        "# Add another dropout layer\n",
        "model.add(Dropout(0.2))\n",
        "# Add another LSTM layer \n",
        "model.add(LSTM(50))\n",
        "# Add a fully connected dense layer with 4 units\n",
        "model.add(Dense(4))"
      ]
    },
    {
      "cell_type": "code",
      "execution_count": 14,
      "metadata": {
        "colab": {
          "base_uri": "https://localhost:8080/"
        },
        "id": "Y3tpHoT152ah",
        "outputId": "575c10a7-5d3f-48d2-a53b-30ed3fa99283"
      },
      "outputs": [
        {
          "name": "stdout",
          "output_type": "stream",
          "text": [
            "Model: \"sequential\"\n",
            "_________________________________________________________________\n",
            " Layer (type)                Output Shape              Param #   \n",
            "=================================================================\n",
            " lstm (LSTM)                 (None, 60, 50)            11000     \n",
            "                                                                 \n",
            " dropout (Dropout)           (None, 60, 50)            0         \n",
            "                                                                 \n",
            " lstm_1 (LSTM)               (None, 60, 50)            20200     \n",
            "                                                                 \n",
            " dropout_1 (Dropout)         (None, 60, 50)            0         \n",
            "                                                                 \n",
            " lstm_2 (LSTM)               (None, 50)                20200     \n",
            "                                                                 \n",
            " dense (Dense)               (None, 4)                 204       \n",
            "                                                                 \n",
            "=================================================================\n",
            "Total params: 51,604\n",
            "Trainable params: 51,604\n",
            "Non-trainable params: 0\n",
            "_________________________________________________________________\n"
          ]
        }
      ],
      "source": [
        "# Print-out the model summary\n",
        "model.summary()"
      ]
    },
    {
      "cell_type": "code",
      "execution_count": 15,
      "metadata": {
        "id": "dhe6eeuD6Acy"
      },
      "outputs": [],
      "source": [
        "# Compile the model\n",
        "model.compile(loss='mean_squared_error', optimizer='adam', metrics=['accuracy'])"
      ]
    },
    {
      "cell_type": "code",
      "execution_count": 16,
      "metadata": {},
      "outputs": [],
      "source": [
        "# Define early stopping criteria\n",
        "early_stopping = EarlyStopping(monitor='val_loss', patience=5)"
      ]
    },
    {
      "attachments": {},
      "cell_type": "markdown",
      "metadata": {
        "id": "gyUjPx2EmqgX"
      },
      "source": [
        "### 5. Train the LSTM-model"
      ]
    },
    {
      "cell_type": "code",
      "execution_count": 17,
      "metadata": {
        "colab": {
          "base_uri": "https://localhost:8080/"
        },
        "id": "Kka-o7E0mqgW",
        "outputId": "a1069961-75ff-4e49-8d88-13f05d423d3c"
      },
      "outputs": [
        {
          "name": "stdout",
          "output_type": "stream",
          "text": [
            "Epoch 1/20\n",
            "6218/6218 [==============================] - 723s 115ms/step - loss: 2.9849e-04 - accuracy: 0.5961 - val_loss: 1.8534e-05 - val_accuracy: 0.7186\n",
            "Epoch 2/20\n",
            "6218/6218 [==============================] - 632s 102ms/step - loss: 4.3296e-05 - accuracy: 0.7886 - val_loss: 5.8496e-05 - val_accuracy: 0.7294\n",
            "Epoch 3/20\n",
            "6218/6218 [==============================] - 687s 110ms/step - loss: 3.0756e-05 - accuracy: 0.8550 - val_loss: 2.9459e-05 - val_accuracy: 0.7491\n",
            "Epoch 4/20\n",
            "6218/6218 [==============================] - 663s 107ms/step - loss: 2.5562e-05 - accuracy: 0.8943 - val_loss: 1.5508e-05 - val_accuracy: 0.7491\n",
            "Epoch 5/20\n",
            "6218/6218 [==============================] - 557s 90ms/step - loss: 2.2206e-05 - accuracy: 0.9018 - val_loss: 2.9854e-04 - val_accuracy: 0.7363\n",
            "Epoch 6/20\n",
            "6218/6218 [==============================] - 593s 95ms/step - loss: 1.9834e-05 - accuracy: 0.8981 - val_loss: 2.6046e-05 - val_accuracy: 0.7440\n",
            "Epoch 7/20\n",
            "6218/6218 [==============================] - 633s 102ms/step - loss: 1.7428e-05 - accuracy: 0.8983 - val_loss: 4.5218e-05 - val_accuracy: 0.7541\n",
            "Epoch 8/20\n",
            "6218/6218 [==============================] - 711s 114ms/step - loss: 1.6795e-05 - accuracy: 0.9014 - val_loss: 1.2772e-05 - val_accuracy: 0.7519\n",
            "Epoch 9/20\n",
            "6218/6218 [==============================] - 654s 105ms/step - loss: 1.5789e-05 - accuracy: 0.9056 - val_loss: 6.0855e-05 - val_accuracy: 0.7381\n",
            "Epoch 10/20\n",
            "6218/6218 [==============================] - 750s 121ms/step - loss: 1.4683e-05 - accuracy: 0.9075 - val_loss: 7.9401e-04 - val_accuracy: 0.7597\n",
            "Epoch 11/20\n",
            "6218/6218 [==============================] - 715s 115ms/step - loss: 1.3605e-05 - accuracy: 0.9086 - val_loss: 3.0768e-04 - val_accuracy: 0.7313\n",
            "Epoch 12/20\n",
            "6218/6218 [==============================] - 718s 115ms/step - loss: 1.3451e-05 - accuracy: 0.9081 - val_loss: 2.2958e-04 - val_accuracy: 0.7140\n",
            "Epoch 13/20\n",
            "6218/6218 [==============================] - 851s 137ms/step - loss: 1.2585e-05 - accuracy: 0.9087 - val_loss: 3.7545e-04 - val_accuracy: 0.7554\n"
          ]
        }
      ],
      "source": [
        "# train the model\n",
        "#model.fit(X_train, y_train, epochs=10, batch_size=32)\n",
        "history = model.fit(X_train, y_train, epochs=20, batch_size=32, validation_data=(X_test, y_test), callbacks=[early_stopping])"
      ]
    },
    {
      "attachments": {},
      "cell_type": "markdown",
      "metadata": {
        "id": "kLv_b5Ai2JHj"
      },
      "source": [
        "### 6. Plot the training"
      ]
    },
    {
      "cell_type": "code",
      "execution_count": 26,
      "metadata": {
        "colab": {
          "base_uri": "https://localhost:8080/",
          "height": 472
        },
        "id": "ABT-6h9B2IVj",
        "outputId": "2c7337d4-6703-4752-c896-5a7189b0e5cc"
      },
      "outputs": [
        {
          "data": {
            "image/png": "[encoded data removed]",
            "text/plain": [
              "<Figure size 640x480 with 1 Axes>"
            ]
          },
          "metadata": {},
          "output_type": "display_data"
        }
      ],
      "source": [
        "# plot the training and validation loss for each epoch\n",
        "plt.plot(history.history['loss'])\n",
        "plt.plot(history.history['val_loss'])\n",
        "plt.title('Model Loss')\n",
        "plt.ylabel('Loss')\n",
        "plt.xlabel('Epoch')\n",
        "plt.legend(['Train', 'Validation'], loc='upper right')\n",
        "plt.show()"
      ]
    },
    {
      "cell_type": "code",
      "execution_count": 27,
      "metadata": {
        "colab": {
          "base_uri": "https://localhost:8080/",
          "height": 472
        },
        "id": "UtfQ36pI2PJL",
        "outputId": "79dd8a13-f3df-48b7-8f5d-76bd4d0c2ac7"
      },
      "outputs": [
        {
          "data": {
            "image/png": "[encoded data removed]",
            "text/plain": [
              "<Figure size 640x480 with 1 Axes>"
            ]
          },
          "metadata": {},
          "output_type": "display_data"
        }
      ],
      "source": [
        "# plot the training and validation accuracy for each epoch\n",
        "plt.plot(history.history['accuracy'])\n",
        "plt.plot(history.history['val_accuracy'])\n",
        "plt.title('Model Accuracy')\n",
        "plt.ylabel('Accuracy')\n",
        "plt.xlabel('Epoch')\n",
        "plt.legend(['Train', 'Validation'], loc='upper left')\n",
        "plt.show()"
      ]
    },
    {
      "attachments": {},
      "cell_type": "markdown",
      "metadata": {
        "id": "39LJZQ_AmqgZ"
      },
      "source": [
        "### 7. Evaluate the trained model"
      ]
    },
    {
      "cell_type": "code",
      "execution_count": 32,
      "metadata": {
        "colab": {
          "base_uri": "https://localhost:8080/"
        },
        "id": "82e66lZ0mqga",
        "outputId": "610951af-ec7b-4cb6-abd5-f4e6d243f0af"
      },
      "outputs": [
        {
          "name": "stdout",
          "output_type": "stream",
          "text": [
            "1553/1553 [==============================] - 60s 39ms/step\n"
          ]
        }
      ],
      "source": [
        "# evaluate the model on the testing data\n",
        "y_pred = model.predict(X_test)\n",
        "y_pred = scaler.inverse_transform(y_pred)\n",
        "y_test = scaler.inverse_transform(y_test)\n",
        "mae = mean_absolute_error(y_test, y_pred)\n",
        "mse = mean_squared_error(y_test, y_pred)\n",
        "r2 = r2_score(y_test, y_pred)"
      ]
    },
    {
      "cell_type": "code",
      "execution_count": 33,
      "metadata": {
        "colab": {
          "base_uri": "https://localhost:8080/"
        },
        "id": "kOiVoQLlmqgg",
        "outputId": "8f3579e0-36be-4af5-e42b-ab0e077ac0f9"
      },
      "outputs": [
        {
          "name": "stdout",
          "output_type": "stream",
          "text": [
            "Mean Squared Error: 0.3201847810045241\n",
            "Mean Absolute Error: 0.5628687165325449\n",
            "R-squared: -9817.818338715286\n"
          ]
        }
      ],
      "source": [
        "print(f\"Mean Squared Error: {mse}\")\n",
        "print(f\"Mean Absolute Error: {mae}\")\n",
        "print(f\"R-squared: {r2}\")"
      ]
    },
    {
      "attachments": {},
      "cell_type": "markdown",
      "metadata": {
        "id": "Sv4R5_rtwgw7"
      },
      "source": [
        "### 8. Testing"
      ]
    },
    {
      "cell_type": "code",
      "execution_count": 34,
      "metadata": {
        "colab": {
          "base_uri": "https://localhost:8080/"
        },
        "id": "9vspCLhdwnnU",
        "outputId": "cf05cb94-4f8a-479e-8fb0-bb8f4b93a786"
      },
      "outputs": [
        {
          "name": "stdout",
          "output_type": "stream",
          "text": [
            "1/1 [==============================] - 0s 92ms/step\n",
            "Predicted open: 1.1017491817474365\n",
            "Predicted high: 1.1022394895553589\n",
            "Predicted close: 1.1018675565719604\n",
            "Predicted low: 1.101608395576477\n"
          ]
        }
      ],
      "source": [
        "# make predictions on new data\n",
        "new_data = np.array([scaled_dataframe[-window_size:, :]])\n",
        "predictions = model.predict(new_data)\n",
        "predictions = scaler.inverse_transform(predictions)\n",
        "predicted_open, predicted_high, predicted_close, predicted_low = predictions[0]\n",
        "print(f'Predicted open: {predicted_open}')\n",
        "print(f'Predicted high: {predicted_high}')\n",
        "print(f'Predicted close: {predicted_close}')\n",
        "print(f'Predicted low: {predicted_low}')"
      ]
    },
    {
      "attachments": {},
      "cell_type": "markdown",
      "metadata": {
        "id": "oBaud74Ymqgh"
      },
      "source": [
        "### 9. Save the model"
      ]
    },
    {
      "cell_type": "code",
      "execution_count": 23,
      "metadata": {
        "id": "7GyCVCp0mqgh"
      },
      "outputs": [],
      "source": [
        "# Save the model\n",
        "model.save(\"lstm_new_model.h5\")"
      ]
    },
    {
      "cell_type": "code",
      "execution_count": 24,
      "metadata": {
        "id": "4ePlPaX5_imH"
      },
      "outputs": [],
      "source": [
        "# save the scaler parameters\n",
        "np.save('scaler_params.npy', scaler.get_params())"
      ]
    },
    {
      "attachments": {},
      "cell_type": "markdown",
      "metadata": {
        "id": "vfN0wGAqBAD0"
      },
      "source": [
        "### 10. Predict values"
      ]
    },
    {
      "cell_type": "code",
      "execution_count": 41,
      "metadata": {
        "colab": {
          "base_uri": "https://localhost:8080/",
          "height": 304
        },
        "id": "qH2ugzpcBEEZ",
        "outputId": "0b22ad12-bebb-460d-8234-65968e9e56b6"
      },
      "outputs": [
        {
          "name": "stderr",
          "output_type": "stream",
          "text": [
            "d:\\AI\\Value_prediction\\value_pred\\lib\\site-packages\\sklearn\\preprocessing\\_data.py:473: RuntimeWarning: All-NaN slice encountered\n",
            "  data_min = np.nanmin(X, axis=0)\n",
            "d:\\AI\\Value_prediction\\value_pred\\lib\\site-packages\\sklearn\\preprocessing\\_data.py:474: RuntimeWarning: All-NaN slice encountered\n",
            "  data_max = np.nanmax(X, axis=0)\n"
          ]
        },
        {
          "ename": "ValueError",
          "evalue": "in user code:\n\n    File \"d:\\AI\\Value_prediction\\value_pred\\lib\\site-packages\\keras\\engine\\training.py\", line 2169, in predict_function  *\n        return step_function(self, iterator)\n    File \"d:\\AI\\Value_prediction\\value_pred\\lib\\site-packages\\keras\\engine\\training.py\", line 2155, in step_function  **\n        outputs = model.distribute_strategy.run(run_step, args=(data,))\n    File \"d:\\AI\\Value_prediction\\value_pred\\lib\\site-packages\\keras\\engine\\training.py\", line 2143, in run_step  **\n        outputs = model.predict_step(data)\n    File \"d:\\AI\\Value_prediction\\value_pred\\lib\\site-packages\\keras\\engine\\training.py\", line 2111, in predict_step\n        return self(x, training=False)\n    File \"d:\\AI\\Value_prediction\\value_pred\\lib\\site-packages\\keras\\utils\\traceback_utils.py\", line 70, in error_handler\n        raise e.with_traceback(filtered_tb) from None\n    File \"d:\\AI\\Value_prediction\\value_pred\\lib\\site-packages\\keras\\engine\\input_spec.py\", line 298, in assert_input_compatibility\n        raise ValueError(\n\n    ValueError: Input 0 of layer \"sequential\" is incompatible with the layer: expected shape=(None, 60, 4), found shape=(None, 60, 95)\n",
          "output_type": "error",
          "traceback": [
            "\u001b[1;31m---------------------------------------------------------------------------\u001b[0m",
            "\u001b[1;31mValueError\u001b[0m                                Traceback (most recent call last)",
            "Cell \u001b[1;32mIn[41], line 32\u001b[0m\n\u001b[0;32m     29\u001b[0m input_data \u001b[39m=\u001b[39m np\u001b[39m.\u001b[39marray(input_data)\n\u001b[0;32m     31\u001b[0m \u001b[39m# Make predictions using the model\u001b[39;00m\n\u001b[1;32m---> 32\u001b[0m predicted_prices \u001b[39m=\u001b[39m model\u001b[39m.\u001b[39;49mpredict(input_data)\n\u001b[0;32m     34\u001b[0m \u001b[39m# Denormalize the predictions using the scaler\u001b[39;00m\n\u001b[0;32m     35\u001b[0m predicted_prices \u001b[39m=\u001b[39m scaler\u001b[39m.\u001b[39minverse_transform(predicted_prices)\n",
            "File \u001b[1;32md:\\AI\\Value_prediction\\value_pred\\lib\\site-packages\\keras\\utils\\traceback_utils.py:70\u001b[0m, in \u001b[0;36mfilter_traceback.<locals>.error_handler\u001b[1;34m(*args, **kwargs)\u001b[0m\n\u001b[0;32m     67\u001b[0m     filtered_tb \u001b[39m=\u001b[39m _process_traceback_frames(e\u001b[39m.\u001b[39m__traceback__)\n\u001b[0;32m     68\u001b[0m     \u001b[39m# To get the full stack trace, call:\u001b[39;00m\n\u001b[0;32m     69\u001b[0m     \u001b[39m# `tf.debugging.disable_traceback_filtering()`\u001b[39;00m\n\u001b[1;32m---> 70\u001b[0m     \u001b[39mraise\u001b[39;00m e\u001b[39m.\u001b[39mwith_traceback(filtered_tb) \u001b[39mfrom\u001b[39;00m \u001b[39mNone\u001b[39;00m\n\u001b[0;32m     71\u001b[0m \u001b[39mfinally\u001b[39;00m:\n\u001b[0;32m     72\u001b[0m     \u001b[39mdel\u001b[39;00m filtered_tb\n",
            "File \u001b[1;32m~\\AppData\\Local\\Temp\\__autograph_generated_file7u5ke_v5.py:15\u001b[0m, in \u001b[0;36mouter_factory.<locals>.inner_factory.<locals>.tf__predict_function\u001b[1;34m(iterator)\u001b[0m\n\u001b[0;32m     13\u001b[0m \u001b[39mtry\u001b[39;00m:\n\u001b[0;32m     14\u001b[0m     do_return \u001b[39m=\u001b[39m \u001b[39mTrue\u001b[39;00m\n\u001b[1;32m---> 15\u001b[0m     retval_ \u001b[39m=\u001b[39m ag__\u001b[39m.\u001b[39mconverted_call(ag__\u001b[39m.\u001b[39mld(step_function), (ag__\u001b[39m.\u001b[39mld(\u001b[39mself\u001b[39m), ag__\u001b[39m.\u001b[39mld(iterator)), \u001b[39mNone\u001b[39;00m, fscope)\n\u001b[0;32m     16\u001b[0m \u001b[39mexcept\u001b[39;00m:\n\u001b[0;32m     17\u001b[0m     do_return \u001b[39m=\u001b[39m \u001b[39mFalse\u001b[39;00m\n",
            "\u001b[1;31mValueError\u001b[0m: in user code:\n\n    File \"d:\\AI\\Value_prediction\\value_pred\\lib\\site-packages\\keras\\engine\\training.py\", line 2169, in predict_function  *\n        return step_function(self, iterator)\n    File \"d:\\AI\\Value_prediction\\value_pred\\lib\\site-packages\\keras\\engine\\training.py\", line 2155, in step_function  **\n        outputs = model.distribute_strategy.run(run_step, args=(data,))\n    File \"d:\\AI\\Value_prediction\\value_pred\\lib\\site-packages\\keras\\engine\\training.py\", line 2143, in run_step  **\n        outputs = model.predict_step(data)\n    File \"d:\\AI\\Value_prediction\\value_pred\\lib\\site-packages\\keras\\engine\\training.py\", line 2111, in predict_step\n        return self(x, training=False)\n    File \"d:\\AI\\Value_prediction\\value_pred\\lib\\site-packages\\keras\\utils\\traceback_utils.py\", line 70, in error_handler\n        raise e.with_traceback(filtered_tb) from None\n    File \"d:\\AI\\Value_prediction\\value_pred\\lib\\site-packages\\keras\\engine\\input_spec.py\", line 298, in assert_input_compatibility\n        raise ValueError(\n\n    ValueError: Input 0 of layer \"sequential\" is incompatible with the layer: expected shape=(None, 60, 4), found shape=(None, 60, 95)\n"
          ]
        }
      ],
      "source": [
        "import numpy as np\n",
        "import pandas as pd\n",
        "from sklearn.preprocessing import MinMaxScaler\n",
        "from keras.models import load_model\n",
        "\n",
        "# Load the saved model\n",
        "model = load_model('lstm_new_model.h5')\n",
        "\n",
        "# Load and preprocess the test dataset\n",
        "test_data = pd.read_csv('test.csv')\n",
        "test_data.drop('timestamp', axis=1, inplace=True)  # Exclude timestamp column\n",
        "\n",
        "# Normalize the data using a scaler\n",
        "scaler = MinMaxScaler()\n",
        "scaler.fit(test_data)\n",
        "\n",
        "# Apply scaling to the test data\n",
        "scaled_data = scaler.transform(test_data)\n",
        "\n",
        "# Define the window size\n",
        "window_size = 60\n",
        "\n",
        "# Prepare the input data for prediction\n",
        "input_data = []\n",
        "for i in range(window_size, len(scaled_data)):\n",
        "    input_data.append(scaled_data[i - window_size:i, :])\n",
        "\n",
        "# Convert the input data to a numpy array\n",
        "input_data = np.array(input_data)\n",
        "\n",
        "# Make predictions using the model\n",
        "predicted_prices = model.predict(input_data)\n",
        "\n",
        "# Denormalize the predictions using the scaler\n",
        "predicted_prices = scaler.inverse_transform(predicted_prices)\n",
        "\n",
        "# Extract the predicted values for the next 15 minutes\n",
        "next_15_min_predictions = predicted_prices[-15:]\n",
        "\n",
        "# Access the individual open, close, low, and high values\n",
        "open_price = next_15_min_predictions[:, 0]\n",
        "close_price = next_15_min_predictions[:, 1]\n",
        "low_price = next_15_min_predictions[:, 2]\n",
        "high_price = next_15_min_predictions[:, 3]\n",
        "\n",
        "# Print the predicted prices\n",
        "for i in range(15):\n",
        "    print(f\"Prediction {i+1}:\")\n",
        "    print(f\"Open Price: {open_price[i]:.2f}\")\n",
        "    print(f\"Close Price: {close_price[i]:.2f}\")\n",
        "    print(f\"Low Price: {low_price[i]:.2f}\")\n",
        "    print(f\"High Price: {high_price[i]:.2f}\")\n",
        "    print()\n"
      ]
    }
  ],
  "metadata": {
    "accelerator": "GPU",
    "colab": {
      "gpuType": "T4",
      "provenance": []
    },
    "gpuClass": "standard",
    "kernelspec": {
      "display_name": "value_pred",
      "language": "python",
      "name": "python3"
    },
    "language_info": {
      "codemirror_mode": {
        "name": "ipython",
        "version": 3
      },
      "file_extension": ".py",
      "mimetype": "text/x-python",
      "name": "python",
      "nbconvert_exporter": "python",
      "pygments_lexer": "ipython3",
      "version": "3.9.7"
    },
    "orig_nbformat": 4
  },
  "nbformat": 4,
  "nbformat_minor": 0
}
